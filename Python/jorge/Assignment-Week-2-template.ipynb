{
 "cells": [
  {
   "cell_type": "markdown",
   "metadata": {},
   "source": [
    "# Assignment Week 2 - Printing, Variables and Conditionals\n",
    "\n",
    "`#// BEGIN_COMMON [First] First Things First Section Assignment`\n",
    "\n",
    "`#// END_COMMON [First]`"
   ]
  },
  {
   "cell_type": "markdown",
   "metadata": {},
   "source": [
    "\n",
    "## Introduction to this template notebook\n",
    "\n",
    "* This is a **personal** notebook.\n",
    "* Make sure you work in a **copy** of `...-template.ipynb`,\n",
    "**renamed** to `...-yourIDnr.ipynb`,\n",
    "where `yourIDnr` is your TU/e identification number.\n",
    "\n",
    "<div class=\"alert alert-danger\" role=\"danger\">Sharing your notebook with others is considered **fraud** under the TU/e regulations.</div>\n",
    "\n",
    "You are expected to work with Python code in this notebook.\n",
    "\n",
    "The locations where you should write your solutions can be recognized by\n",
    "**marker lines**,\n",
    "which look like this:\n",
    "\n",
    ">`#//`\n",
    ">    `BEGIN_TODO [Label]` `Description` `(n points)`\n",
    ">\n",
    ">`#//`\n",
    ">    `END_TODO [Label]`\n",
    "\n",
    "<div class=\"alert alert-warning\" role=\"alert\">Do NOT modify or delete these marker lines.  Keep them as they are.<br/>\n",
    "<br/>\n",
    "NEVER write code <i>outside</i> the marked blocks.\n",
    "Such code cannot be evaluated.\n",
    "</div>\n",
    "\n",
    "Proceed in this notebook as follows:\n",
    "* **Read** the text.\n",
    "* **Fill in** your solutions between `BEGIN_TODO` and `END_TODO` marker lines.\n",
    "* **Run** _all_ code cells (also the ones _without_ your code),\n",
    "    _in linear order_ from the first code cell.\n"
   ]
  },
  {
   "cell_type": "code",
   "execution_count": 1,
   "metadata": {
    "collapsed": true,
    "pycharm": {
     "is_executing": false
    }
   },
   "outputs": [
    {
     "data": {
      "text/plain": "('Full Name', 'TU/e ID Number', 'YYYY-MM-DD')"
     },
     "metadata": {},
     "output_type": "execute_result",
     "execution_count": 1
    }
   ],
   "source": [
    "#// BEGIN_TODO [AssignmentWe2_2019.1] Fill in full name, id.nr., and the date (1 point)\n",
    "\n",
    "AUTHOR_NAME = 'Full Name'  # e.g. 'Ludwig von Beethoven'\n",
    "AUTHOR_ID_NR = 'TU/e ID Number'  # e.g. '1234567'\n",
    "AUTHOR_DATE = 'YYYY-MM-DD'  # when first modified; numbers only, e.g. '2019-08-22'\n",
    "\n",
    "#// END_TODO [AssignmentWe2_2019.1]\n",
    "\n",
    "AUTHOR_NAME, AUTHOR_ID_NR, AUTHOR_DATE\n"
   ]
  },
  {
   "cell_type": "markdown",
   "metadata": {},
   "source": [
    "### Grading\n",
    "This assignment consists of 4 tasks.\n",
    "\n",
    "Each task you can get 2 points. The other 2  points can be obtained by writing code that is clear and follows the coding style guidelines.\n",
    "\n",
    "Every code block contains an indication of the score, this is used by Momotor to check\n",
    "whether you have handed in the correct assignment, you solved all parts of the assignment, and whether your code contains errors. The assignment will eventually be graded by a tutor.\n",
    "\n",
    "Note that a perfect Momotor score does not mean that your assignment is perfect.\n",
    "\n",
    "However, a low Momotor score means that your assignment contains errors, such as incomplete tasks or bad code. Which will certainly lead to a lower grade."
   ]
  },
  {
   "cell_type": "markdown",
   "metadata": {},
   "source": [
    "### Jerra (2 points)\n",
    "\n",
    "Your co-worker Jerra has written some code to help him remove spam from his email.\n",
    "His program does what it is suppose to do, but he wants you to check his code against the Python coding guidelines using the Python Coding Standard document from Canvas.\n",
    "\n",
    "<img src=\"Jerra_Code.png\">\n",
    "\n",
    "<br>\n",
    "\n",
    "When you find a rule violation in Jerra's code, write it down below in the raw code cell including:\n",
    "* The line number of the mistake\n",
    "* The rule number (from the Python Coding Standard document) of the violation\n",
    "* Explain why the code is wrong, according to the coding standard\n",
    "* Suggest an improvement to fix the mistake"
   ]
  },
  {
   "cell_type": "code",
   "execution_count": 2,
   "metadata": {
    "collapsed": true,
    "pycharm": {
     "is_executing": false
    }
   },
   "outputs": [],
   "source": [
    "#// BEGIN_TODO [style] Coding Style (1 point)\n",
    "\n",
    "# ===== =====> Replace this line by your text. <===== ===== #\n",
    "\n",
    "#// END_TODO [style]\n"
   ]
  },
  {
   "cell_type": "markdown",
   "metadata": {},
   "source": [
    "### Dog years (2 points)\n",
    "\n",
    "When converting dog years into human years, you may have heard of the rule that 1 (dog) year equals to 7 human years. \n",
    "However, this fails to acknowledge that dogs mature faster than humans.\n",
    "The size of the dogs also matter, so we distinguish between Small, Medium and Large dogs. We encode this in code by:\n",
    "```python\n",
    "{'small', 'medium', 'large'}\n",
    "```\n",
    "\n",
    "The first two years, all dogs will age approximately **12 human years per dog year**.\n",
    "\n",
    "Then for 3 years, all dogs will age **4 years every year**.\n",
    "\n",
    "After that, small dogs will keep aging at the same pace as before. So a small dog that is 10 years old, would be 56 human years old.\n",
    "\n",
    "Medium dogs will age **4.5 years every year**.\n",
    "\n",
    "And large dogs age **5.5 years every year**.\n",
    "\n",
    "Create a program that converts the dog years into human years using the type of dog.\n",
    "\n",
    "Print the amount of human years in the form:<br>\n",
    "<pre>\n",
    "[AGE] dog years for a [TYPE] dog is equal to [YEARS] human years.\n",
    "</pre>\n",
    "Remember that we are talking about years, which we always indicate by integers (You don't say I'm 8.5 years old)."
   ]
  },
  {
   "cell_type": "code",
   "execution_count": 3,
   "metadata": {
    "collapsed": true,
    "pycharm": {
     "is_executing": false
    }
   },
   "outputs": [],
   "source": [
    "dog_age = 10\n",
    "dog_type = 'small'\n",
    "\n",
    "#// BEGIN_TODO [dogs] Converting dogs (1 point)\n",
    "\n",
    "# ===== =====> Replace this line by your text. <===== ===== #\n",
    "\n",
    "#// END_TODO [dogs]\n"
   ]
  },
  {
   "cell_type": "markdown",
   "metadata": {},
   "source": [
    "### Valid ID (2 points)\n",
    "\n",
    "IDs such as your credit card number and your student number are created with internal security measures.\n",
    "\n",
    "This way, if you are trying to input a false ID number, it will quickly be spotted as false.\n",
    "\n",
    "Companies use internal security measures such as:\n",
    "* The ID must have a length of 6\n",
    "* The ID must be dividable by 9\n",
    "* The last 2 digits are equal to the sum of all other individual digits (370515: 3+7+0+5 = 15)\n",
    "\n",
    "Create a program that checks a *number* and prints whether this number is valid according to the rules above. If not, it also prints which rule(s) are violated.\n",
    "\n",
    "**Example:**\n",
    "```python\n",
    "number = 257418\n",
    "'The number, 257418, is a valid number.'\n",
    "\n",
    "number = 370515\n",
    "'The number, 370515, is NOT a valid number. It violates the second rule.'\n",
    "\n",
    "number = 2208\n",
    "'The number, 2208, is NOT a valid number. It violates the first, second and third rule.'\n",
    "```"
   ]
  },
  {
   "cell_type": "code",
   "execution_count": 4,
   "metadata": {
    "collapsed": true,
    "pycharm": {
     "is_executing": false
    }
   },
   "outputs": [],
   "source": [
    "number = 257418\n",
    "\n",
    "#// BEGIN_TODO [security] Checking IDs (1 point)\n",
    "\n",
    "# ===== =====> Replace this line by your text. <===== ===== #\n",
    "\n",
    "#// END_TODO [security]\n"
   ]
  },
  {
   "cell_type": "markdown",
   "metadata": {},
   "source": [
    "### Doctors Dilemma (2 points)\n",
    "\n",
    "Doctor von Achilles is an expert on diagnosing leg based injuries. Based on only a few symptoms, he can accurately determine what is wrong with a patient. \n",
    "He wants to create a program where patients can do a self diagnosis first. However, dr van Achilles cannot program, so he hired you to create this program.\n",
    "\n",
    "After extensive analysis and discussions with the doctor, you have created a list with diseases/injuries that can be easily diagnosed with the associated symptoms:<br>\n",
    "\n",
    "<table>\n",
    "    <tr>\n",
    "        <th style=\"text-align:left\">Disease/Injury</th>\n",
    "        <th>Symptoms</th>\n",
    "    </tr>\n",
    "    <tr>\n",
    "        <td style=\"text-align:left\">Sprains & Strains</td>\n",
    "        <td>Pain</td>\n",
    "        <td>Bruising</td>\n",
    "        <td>Swelling</td>\n",
    "        <td>Redness</td>\n",
    "    </tr>\n",
    "    <tr>\n",
    "        <td style=\"text-align:left\">Fracture</td>\n",
    "        <td>Pain</td>\n",
    "        <td>Deformity</td>\n",
    "        <td>Bruising</td>\n",
    "        <td>Swelling</td>\n",
    "        <td>Redness</td>\n",
    "    </tr>\n",
    "    <tr>\n",
    "        <td style=\"text-align:left\">Deep Venous Thrombosis</td>\n",
    "        <td>Deformity</td> \n",
    "        <td>Redness</td>\n",
    "    </tr>\n",
    "    <tr>\n",
    "        <td style=\"text-align:left\">Varicose Veins</td>\n",
    "        <td>Purple Veins</td>\n",
    "        <td>+ Any other</td>\n",
    "        <td>symptoms</td>\n",
    "        <td></td>\n",
    "    </tr>\n",
    "    <tr>\n",
    "        <td style=\"text-align:left\">Internal Infection</td>\n",
    "        <td>Pain</td> \n",
    "        <td>Swelling</td>\n",
    "        <td>Redness</td>\n",
    "    </tr>    \n",
    "</table>\n",
    "\n",
    "Your job is to create a program that can diagnose a patient based on their symptoms.\n",
    "Use as little if-statements as possible. If a patient has no clear diagnoses, refer the patient to the doctor by printing: 'Unknown disease/injury', otherwise print the disease/injury."
   ]
  },
  {
   "cell_type": "code",
   "execution_count": 5,
   "metadata": {
    "collapsed": true,
    "pycharm": {
     "is_executing": false
    }
   },
   "outputs": [],
   "source": [
    "has_pain = True\n",
    "has_deformity = False\n",
    "has_bruising = False\n",
    "has_swelling = True\n",
    "has_redness = True\n",
    "has_purple_veins = False\n",
    "\n",
    "#// BEGIN_TODO [doctors] Doctors Appointment (1 point)\n",
    "\n",
    "# ===== =====> Replace this line by your text. <===== ===== #\n",
    "\n",
    "#// END_TODO [doctors]\n"
   ]
  },
  {
   "cell_type": "markdown",
   "metadata": {},
   "source": [
    "`#// BEGIN_COMMON [Momotor]`\n",
    "\n",
    "`#// END_COMMON [Momotor]`"
   ]
  },
  {
   "cell_type": "code",
   "execution_count": 6,
   "metadata": {
    "collapsed": true,
    "pycharm": {
     "is_executing": false
    }
   },
   "outputs": [
    {
     "name": "stdout",
     "text": [
      "Variable           Type    Data/Info\n------------------------------------\nAUTHOR_DATE        str     YYYY-MM-DD\nAUTHOR_ID_NR       str     TU/e ID Number\nAUTHOR_NAME        str     Full Name\ndog_age            int     10\ndog_type           str     small\nhas_bruising       bool    False\nhas_deformity      bool    False\nhas_pain           bool    True\nhas_purple_veins   bool    False\nhas_redness        bool    True\nhas_swelling       bool    True\nnumber             int     257418\n"
     ],
     "output_type": "stream"
    },
    {
     "name": "stderr",
     "text": [
      "Executing <Handle IOLoop.add_future.<locals>.<lambda>(<Future finis...elbase.py:378>) at /usr/local/lib/python3.7/site-packages/tornado/ioloop.py:690 created at /usr/local/lib/python3.7/site-packages/tornado/concurrent.py:185> took 0.118 seconds\n"
     ],
     "output_type": "stream"
    }
   ],
   "source": [
    "%whos"
   ]
  },
  {
   "cell_type": "markdown",
   "metadata": {},
   "source": [
    "---\n",
    "\n",
    "# (End of Notebook)\n",
    "\n",
    "Use **Kernel** --> **Restart & Run All** before handing in your work.\n",
    "\n",
    "Make sure your code does **not** contain errors,\n",
    "\n",
    "The **Kernel** options can be found at the top of your screen.\n",
    "\n",
    "&copy; 2019-2020 - **TU/e** - Eindhoven University of Technology"
   ]
  }
 ],
 "metadata": {
  "kernelspec": {
   "display_name": "Python 3",
   "language": "python",
   "name": "python3"
  },
  "language_info": {
   "codemirror_mode": {
    "name": "ipython",
    "version": 3
   },
   "file_extension": ".py",
   "mimetype": "text/x-python",
   "name": "python",
   "nbconvert_exporter": "python",
   "pygments_lexer": "ipython3",
   "version": "3.7.4"
  },
  "pycharm": {
   "stem_cell": {
    "cell_type": "raw",
    "source": [],
    "metadata": {
     "collapsed": false
    }
   }
  }
 },
 "nbformat": 4,
 "nbformat_minor": 2
}