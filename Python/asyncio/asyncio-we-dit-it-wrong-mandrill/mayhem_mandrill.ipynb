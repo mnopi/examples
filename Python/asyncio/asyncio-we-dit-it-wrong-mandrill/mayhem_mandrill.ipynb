{
 "cells": [
  {
   "cell_type": "markdown",
   "metadata": {
    "slideshow": {
     "slide_type": "slide"
    }
   },
   "source": [
    "<div style=\"overflow-x:unset\"><h1>whoami<span class=\"blink\">_</span></h1></div>"
   ]
  },
  {
   "cell_type": "markdown",
   "metadata": {
    "slideshow": {
     "slide_type": "slide"
    }
   },
   "source": [
    "# `asyncio`: We Did It Wrong"
   ]
  },
  {
   "cell_type": "markdown",
   "metadata": {
    "slideshow": {
     "slide_type": "fragment"
    }
   },
   "source": [
    "<h3> Lynn Root <span style=\"color:rgb(25,230,140)\">|</span> Spotify <span style=\"color:rgb(25,230,140)\">|</span> @roguelynn</h3>"
   ]
  },
  {
   "cell_type": "heading",
   "metadata": {
    "slideshow": {
     "slide_type": "fragment"
    }
   },
   "level": 1,
   "source": [
    "* Lead Site Reliability Engineer"
   ]
  },
  {
   "cell_type": "markdown",
   "metadata": {
    "slideshow": {
     "slide_type": "fragment"
    }
   },
   "source": [
    "* Internal FOSS Evangelist"
   ]
  },
  {
   "cell_type": "markdown",
   "metadata": {
    "slideshow": {
     "slide_type": "fragment"
    }
   },
   "source": [
    "* Global PyLadies Leader"
   ]
  },
  {
   "cell_type": "markdown",
   "metadata": {
    "slideshow": {
     "slide_type": "notes"
    }
   },
   "source": [
    "I'm a site reliability engineer at Spotify, which basically means I either break our entire service, or get paged to fix it when other people do.\n",
    "\n",
    "In actuality, what an SRE does at spotify - as it varies widely at different companies - is a combination of backend development where my team and I run a few services that other engineers use daily, plus a little devops and system administration.\n",
    "\n",
    "I'm also our FOSS evangelist: I help a lot of teams release their projects and tools under the spotify GitHub organization.\n",
    "\n",
    "Lastly, I help lead PyLadies - a global mentorship group for women, and friends, to help increase diversity in the Python community.\n",
    "\n",
    "Before I start, I want to warn y'all: I will use all the amount of time allotted. Therefore I will not have time for a Q&A session. _you might even think I do this purposefully to try to avoid Q&As_ But! I am available afterwards to chat, and I'll have a link at the end for the notebook & example code here."
   ]
  },
  {
   "cell_type": "markdown",
   "metadata": {
    "slideshow": {
     "slide_type": "slide"
    }
   },
   "source": [
    "# async all the things"
   ]
  },
  {
   "cell_type": "markdown",
   "metadata": {
    "slideshow": {
     "slide_type": "fragment"
    }
   },
   "source": [
    "<img src=\"images/xkcd_python.png\" alt=\"import gravity\" style=\"width: 400px;\"/>"
   ]
  },
  {
   "cell_type": "markdown",
   "metadata": {
    "slideshow": {
     "slide_type": "notes"
    }
   },
   "source": [
    "asyncio - The concurrent Python programmer’s dream, the answer to everyone's asynchronous prayers. \n",
    "\n",
    "The `asyncio` module has various layers of abstraction allowing developers as much control as they need and are comfortable with. "
   ]
  },
  {
   "cell_type": "markdown",
   "metadata": {
    "slideshow": {
     "slide_type": "subslide"
    }
   },
   "source": [
    "```pycon\n",
    "Python 3.7.0 (default, Jul  6 2018, 11:30:06)\n",
    "[Clang 9.1.0 (clang-902.0.39.2)] on darwin\n",
    "Type \"help\", \"copyright\", \"credits\" or \"license\" for more information.\n",
    ">>> import asyncio, datetime\n",
    ">>> async def hello():\n",
    "...   print(f'[{datetime.datetime.now()}] Hello...')\n",
    "...   await asyncio.sleep(1)  # some I/O-intensive work\n",
    "...   print(f'[{datetime.datetime.now()}] ...World!')\n",
    "...\n",
    ">>> asyncio.run(hello())\n",
    "[2018-07-07 10:45:55.559856] Hello...\n",
    "[2018-07-07 10:45:56.568737] ...World!\n",
    "```"
   ]
  },
  {
   "cell_type": "markdown",
   "metadata": {
    "slideshow": {
     "slide_type": "notes"
    }
   },
   "source": [
    "Simple \"Hello, World\"-like examples show how it can be so effortless, look at that!\n",
    "\n",
    "But it's easy to get lulled into a false sense of security. This ain't helpful."
   ]
  },
  {
   "cell_type": "markdown",
   "metadata": {
    "slideshow": {
     "slide_type": "subslide"
    }
   },
   "source": [
    "# Fake News."
   ]
  },
  {
   "cell_type": "markdown",
   "metadata": {
    "slideshow": {
     "slide_type": "notes"
    }
   },
   "source": [
    "<p style=\"font-size:75%\">We're led to believe that we're able to do a lot with the structured `async`/`await` API layer. Some tutorials, while great for the developer getting their toes wet, try to illustrate real world examples, but are actually just beefed-up \"hello, world\"s.</p>\n",
    "\n",
    "<p style=\"font-size:75%\">Some even misuse parts of `asyncio`'s interface, allowing one to easily fall into the depths of callback hell. </p>\n",
    "\n",
    "<p style=\"font-size:75%\">Some get you easily up and running with `asyncio`, but then you may not realize it's not correct or exactly what you want, or only gets you part of the way there. While some tutorials and walk throughs do a lot to improve upon the basic \"hello, world\" use case, it is still just a web crawler. I'm not sure about others, but I'm not building web crawlers at Spotify.</p>\n",
    "\n",
    "<p style=\"font-size:75%\">Asynchronous programming is difficult. Whether you use `asyncio`, Twisted, Tornado, or Golang, Erlang, Haskell, whatever, it's just difficult.</p>\n",
    "\n",
    "<p style=\"font-size:75%\">Within my team at Spotify, we (mostly me :-!) fell into this false sense of ease that the `asyncio` community builds. The past couple of services we built, we felt they were perfect use cases for `asyncio`: a chaos-monkey like service for restarting instances, and an event-driven hostname generation service for DNS.</p>\n",
    "\n",
    "<p style=\"font-size:75%\">Sure, we needed to make a lot of HTTP requests that should be non-blocking. But these services also had to react to events from a pubsub, measure the progress of actions initiated from those events, handle any incomplete actions or other external errors, deal with pubsub message lease management, measure service level indicators, and send metrics. And needed to use non-`asyncio`-friendly dependencies. This quickly got difficult.</p>\n"
   ]
  },
  {
   "cell_type": "markdown",
   "metadata": {
    "slideshow": {
     "slide_type": "slide"
    }
   },
   "source": [
    "# DIY Chaos Monkey"
   ]
  },
  {
   "cell_type": "markdown",
   "metadata": {
    "slideshow": {
     "slide_type": "subslide"
    }
   },
   "source": [
    "<h2>Mayhem Mandrill</h2>\n",
    "<img src=\"images/mandrill_yell.jpg\" alt=\"yelling mandrill\" style=\"width: 600px;\"/>"
   ]
  },
  {
   "cell_type": "markdown",
   "metadata": {
    "slideshow": {
     "slide_type": "notes"
    }
   },
   "source": [
    "Allow me to provide you a real-world example that actually comes from the real world. Recently at Spotify, we built a service that does periodic hard restarts our entire fleet of instances. \n",
    "\n",
    "And we’re going to do that here. Let’s build a service called Mayhem Mandrill which will listen for a pub/sub message and restart a host based off of that message. As we build this service, I’ll point out the traps that I may or may not have fallen into. This will essentially become the type of resource that past Lynn would have wanted a year or two ago. "
   ]
  },
  {
   "cell_type": "markdown",
   "metadata": {
    "slideshow": {
     "slide_type": "slide"
    }
   },
   "source": [
    "# Initial Setup"
   ]
  },
  {
   "cell_type": "markdown",
   "metadata": {
    "slideshow": {
     "slide_type": "notes"
    }
   },
   "source": [
    "At Spotify we use Google Cloud Pub/Sub. However, there are a lot of other choices out there. \n",
    "\n",
    "For our purposes, we'll simulate a pub/sub technology with `asyncio`…"
   ]
  },
  {
   "cell_type": "markdown",
   "metadata": {
    "slideshow": {
     "slide_type": "subslide"
    }
   },
   "source": [
    "### Simulate an external publisher of messages\n",
    "*Adapted from [asyncio.readthedocs.io](http://asyncio.readthedocs.io/en/latest/producer_consumer.html)*"
   ]
  },
  {
   "cell_type": "markdown",
   "metadata": {
    "slideshow": {
     "slide_type": "notes"
    }
   },
   "source": [
    "Where this is pretty much inspired by a tutorial from asyncio’s docs"
   ]
  },
  {
   "cell_type": "code",
   "execution_count": null,
   "metadata": {
    "slideshow": {
     "slide_type": "fragment"
    }
   },
   "outputs": [],
   "source": [
    "async def publish(queue, n):\n",
    "    for x in range(1, n + 1):\n",
    "        instance_name = f'cattle-{x}'\n",
    "        msg = Message(msg_id=x, inst_name=instance_name)\n",
    "            \n",
    "        await queue.put(msg)  # \"publish\" a message\n",
    "        logging.info(f'Published {x} of {n} messages')\n",
    "\n",
    "    await queue.put(None)  # publisher is done"
   ]
  },
  {
   "cell_type": "code",
   "execution_count": null,
   "metadata": {
    "slideshow": {
     "slide_type": "subslide"
    }
   },
   "outputs": [],
   "source": [
    "async def consume(queue):\n",
    "    while True:\n",
    "        # wait to \"consume\" a message\n",
    "        msg = await queue.get()\n",
    "        if msg is None:  # publisher is done\n",
    "            break\n",
    "\n",
    "        logging.info(f'Consumed {msg}')\n",
    "        # unhelpful simulation of i/o work\n",
    "        await asyncio.sleep(random.random())"
   ]
  },
  {
   "cell_type": "code",
   "execution_count": null,
   "metadata": {
    "slideshow": {
     "slide_type": "subslide"
    }
   },
   "outputs": [],
   "source": [
    "queue = asyncio.Queue()\n",
    "asyncio.run(publish(queue, 5))\n",
    "asyncio.run(consume(queue))"
   ]
  },
  {
   "cell_type": "markdown",
   "metadata": {
    "slideshow": {
     "slide_type": "notes"
    }
   },
   "source": [
    "Using Python 3.7's latest syntactic sugar! When we run this, we see the following:"
   ]
  },
  {
   "cell_type": "markdown",
   "metadata": {
    "slideshow": {
     "slide_type": "subslide"
    }
   },
   "source": [
    "```sh\n",
    "$ python mandrill/mayhem.py\n",
    "```\n",
    "```\n",
    "14:36:21,802 INFO: Published 1 of 5 messages\n",
    "14:36:21,802 INFO: Published 2 of 5 messages\n",
    "14:36:21,802 INFO: Published 3 of 5 messages\n",
    "14:36:21,802 INFO: Published 4 of 5 messages\n",
    "14:36:21,803 INFO: Published 5 of 5 messages\n",
    "14:36:21,804 INFO: Consumed Message(inst_name='cattle-jg4t')\n",
    "14:36:22,780 INFO: Consumed Message(inst_name='cattle-hz84')\n",
    "14:36:23,558 INFO: Consumed Message(inst_name='cattle-kd7q')\n",
    "14:36:23,938 INFO: Consumed Message(inst_name='cattle-z0ww')\n",
    "14:36:24,815 INFO: Consumed Message(inst_name='cattle-3hka')\n",
    "```"
   ]
  },
  {
   "cell_type": "markdown",
   "metadata": {
    "slideshow": {
     "slide_type": "notes"
    }
   },
   "source": [
    "So let's work off of this. We'll first start with boilerplate-like code to start and stop this pub/sub simulator."
   ]
  },
  {
   "cell_type": "markdown",
   "metadata": {
    "slideshow": {
     "slide_type": "slide"
    }
   },
   "source": [
    "# Running an `asyncio`-based Service"
   ]
  },
  {
   "cell_type": "markdown",
   "metadata": {
    "slideshow": {
     "slide_type": "skip"
    }
   },
   "source": [
    "<h1><span style=\"font-size:50%;font-style:italic;color:gray;\">Running an <code>asyncio</code>-based service</span><br/><code>loop.run_until_complete</code> versus <code>asyncio.run</code></h1>'"
   ]
  },
  {
   "cell_type": "markdown",
   "metadata": {
    "slideshow": {
     "slide_type": "skip"
    }
   },
   "source": [
    "While pretty simple, not many examples and tutorials dive into starting an `asyncio` service. The usual entry point to starting a service on the event loop is either [`loop.run_forever`][18] or [`loop.run_until_complete`][19] (or the newest addition, `asyncio.run`) with both sometimes being used.\n",
    "\n",
    "Reworking on the example above, we'll use `loop.run_until_complete` (versus `loop.run_forever`) since there are a finite number of messages to produce and to consume. Before, we used `asyncio.run` – [provisionally available as of 3.7.0](https://docs.python.org/3/whatsnew/3.7.html#asyncio) – which handles the event loop management for us and is [designed to be an entry point](https://docs.python.org/3/library/asyncio-task.html#asyncio.run) for `asyncio` programs. However it's not ideal for our usage as it's wasteful to call it more than once. [It creates and closes an event loop each time its called](https://github.com/python/cpython/blob/416c1ebd9896b394790dcb4f9f035b1a44ebe9ff/Lib/asyncio/runners.py#L8-L50), and it may not be ideal for long-running services as it uses `run_until_complete` under the hood.\n",
    "\n",
    "[18]: https://docs.python.org/3/library/asyncio-eventloop.html#asyncio.AbstractEventLoop.run_forever\n",
    "[19]: https://docs.python.org/3/library/asyncio-eventloop.html#asyncio.AbstractEventLoop.run_until_complete"
   ]
  },
  {
   "cell_type": "code",
   "execution_count": null,
   "metadata": {
    "slideshow": {
     "slide_type": "skip"
    }
   },
   "outputs": [],
   "source": [
    "if __name__ == '__main__':\n",
    "    queue = asyncio.Queue()\n",
    "\n",
    "    loop = asyncio.get_event_loop()\n",
    "    loop.run_until_complete(produce(queue, 5))\n",
    "    loop.run_until_complete(consume(queue))"
   ]
  },
  {
   "cell_type": "markdown",
   "metadata": {
    "slideshow": {
     "slide_type": "skip"
    }
   },
   "source": [
    "Let's rework the `__main__` part just a bit to reflect creating our own loop and running what we need ourselves. \n",
    "\n",
    "You'll notice the comment pointing out bad code. This would be fine for playing around, for scripting and such. But we'll see in a bit that we should not do this while running in production"
   ]
  },
  {
   "cell_type": "code",
   "execution_count": null,
   "metadata": {
    "slideshow": {
     "slide_type": "skip"
    }
   },
   "outputs": [],
   "source": [
    "if __name__ == '__main__':\n",
    "    queue = asyncio.Queue()\n",
    "\n",
    "    loop = asyncio.get_event_loop()\n",
    "    loop.run_until_complete(produce(queue, 5))\n",
    "    loop.run_until_complete(consume(queue))\n",
    "    loop.close()"
   ]
  },
  {
   "cell_type": "markdown",
   "metadata": {
    "slideshow": {
     "slide_type": "skip"
    }
   },
   "source": [
    "Since we created and started the event loop, we should clean it up too"
   ]
  },
  {
   "cell_type": "markdown",
   "metadata": {
    "slideshow": {
     "slide_type": "subslide"
    }
   },
   "source": [
    "<h1><span style=\"font-size:50%;font-style:italic;color:gray;\">Running an <code>asyncio</code>-based service</span><br/><code>loop.run_forever</code></h1>"
   ]
  },
  {
   "cell_type": "markdown",
   "metadata": {
    "slideshow": {
     "slide_type": "notes"
    }
   },
   "source": [
    "So far, we haven't built an actual service; it's merely just a pipeline or a batch job right now. In order to continuously run, we need to use `loop.run_forever`. For this, we have to schedule and create tasks out of the coroutines, then start the loop:"
   ]
  },
  {
   "cell_type": "code",
   "execution_count": null,
   "metadata": {
    "slideshow": {
     "slide_type": "subslide"
    }
   },
   "outputs": [],
   "source": [
    "if __name__ == '__main__':\n",
    "    queue = asyncio.Queue()\n",
    "\n",
    "    loop = asyncio.get_event_loop()\n",
    "    loop.create_task(publish(queue, 5))\n",
    "    loop.create_task(consume(queue))\n",
    "    loop.run_forever()\n",
    "    loop.close()\n",
    "    logging.info('Done')"
   ]
  },
  {
   "cell_type": "markdown",
   "metadata": {
    "slideshow": {
     "slide_type": "notes"
    }
   },
   "source": [
    "Since we created and started the event loop, we should clean it up too. \n",
    "\n",
    "So then running with this updated code..."
   ]
  },
  {
   "cell_type": "markdown",
   "metadata": {
    "slideshow": {
     "slide_type": "subslide"
    }
   },
   "source": [
    "```sh\n",
    "$ python mandrill/mayhem_3.py\n",
    "```\n",
    "```\n",
    "19:45:17,540 INFO: Published 1 of 5 messages\n",
    "19:45:17,540 INFO: Published 2 of 5 messages\n",
    "19:45:17,541 INFO: Published 3 of 5 messages\n",
    "19:45:17,541 INFO: Published 4 of 5 messages\n",
    "19:45:17,541 INFO: Published 5 of 5 messages\n",
    "19:45:17,541 INFO: Consumed Message(inst_name='cattle-ms1t')\n",
    "19:45:17,749 INFO: Consumed Message(inst_name='cattle-p6l9')\n",
    "19:45:17,958 INFO: Consumed Message(inst_name='cattle-kd7q')\n",
    "19:45:18,238 INFO: Consumed Message(inst_name='cattle-z0ww')\n",
    "19:45:18,415 INFO: Consumed Message(inst_name='cattle-3hka')\n",
    "^CTraceback (most recent call last):\n",
    "  File \"mandrill/mayhem_3.py\", line 68, in <module>\n",
    "    loop.run_forever()\n",
    "  File \"/Users/lynn/.pyenv/versions/3.7.0/lib/python3.7/asyncio/base_events.py\", line 523, in run_forever\n",
    "    self._run_once()\n",
    "  File \"/Users/lynn/.pyenv/versions/3.7.0/lib/python3.7/asyncio/base_events.py\", line 1722, in _run_once\n",
    "    event_list = self._selector.select(timeout)\n",
    "  File \"/Users/lynn/.pyenv/versions/3.7.0/lib/python3.7/selectors.py\", line 558, in select\n",
    "    kev_list = self._selector.control(None, max_ev, timeout)\n",
    "KeyboardInterrupt\n",
    "```"
   ]
  },
  {
   "cell_type": "markdown",
   "metadata": {
    "slideshow": {
     "slide_type": "notes"
    }
   },
   "source": [
    "...we see that all messages are published and then consumed, and then we hang, because there is no more work to be done (we only published 5 messages, after all). To stop the process, we have to interrupt it (via `^C` or sending a signal like `kill -9 <pid>`).\n",
    "\n",
    "So yeah, That's nice and ugly... You may notice that we'll also never get to the `loop.close()` line either. Nor are we handling any exceptions that may raise from awaiting the `publish` and `consume` coroutines."
   ]
  },
  {
   "cell_type": "markdown",
   "metadata": {
    "slideshow": {
     "slide_type": "subslide"
    }
   },
   "source": [
    "<h1><span style=\"font-size:50%;font-style:italic;color:gray;\">Running an <code>asyncio</code>-based service</span><br/>Running the event loop defensively</h1>"
   ]
  },
  {
   "cell_type": "markdown",
   "metadata": {
    "slideshow": {
     "slide_type": "notes"
    }
   },
   "source": [
    "We'll first address the catching of exceptions that arise from coroutines. Let's fake an error in the `consume` coroutine:"
   ]
  },
  {
   "cell_type": "code",
   "execution_count": null,
   "metadata": {
    "slideshow": {
     "slide_type": "subslide"
    }
   },
   "outputs": [],
   "source": [
    "async def consume(queue):\n",
    "    while True:\n",
    "        msg = await queue.get()\n",
    "        # super-realistic simulation of an exception\n",
    "        if msg.msg_id == 4:\n",
    "            raise Exception('an exception happened!')\n",
    "\n",
    "        if msg is None:  # publisher is done\n",
    "            break\n",
    "\n",
    "        logging.info(f'Consumed {msg}')\n",
    "        # unhelpfup simulation of an i/o operation\n",
    "        await asyncio.sleep(random.random())"
   ]
  },
  {
   "cell_type": "markdown",
   "metadata": {
    "slideshow": {
     "slide_type": "notes"
    }
   },
   "source": [
    "If we run it as is,"
   ]
  },
  {
   "cell_type": "markdown",
   "metadata": {
    "slideshow": {
     "slide_type": "subslide"
    }
   },
   "source": [
    "```sh\n",
    "$ python mandrill/mayhem_3.py\n",
    "```\n",
    "<pre><code>\n",
    "17:39:52,933 INFO: Published 1 of 5 messages\n",
    "17:39:52,933 INFO: Published 2 of 5 messages\n",
    "17:39:52,933 INFO: Published 3 of 5 messages\n",
    "17:39:52,933 INFO: Published 4 of 5 messages\n",
    "17:39:52,933 INFO: Published 5 of 5 messages\n",
    "17:39:52,933 INFO: Consumed Message(inst_name='cattle-cu7f')\n",
    "17:39:53,876 INFO: Consumed Message(inst_name='cattle-xihm')\n",
    "17:39:54,599 INFO: Consumed Message(inst_name='cattle-clnn')\n",
    "<span class=\"asyncio-hl\">17:39:55,051 ERROR: Task exception was never retrieved</span>\n",
    "future: <Task finished coro=<consume() done, defined at mandrill/mayhem_3.py:45> exception=Exception('an exception happened!')>\n",
    "Traceback (most recent call last):\n",
    "  File \"mandrill/mayhem_3.py\", line 52, in consume\n",
    "    raise Exception('an exception happened!')\n",
    "Exception: an exception happened!\n",
    "^CTraceback (most recent call last):\n",
    "  File \"mandrill/mayhem_3.py\", line 72, in <module>\n",
    "    loop.run_forever()\n",
    "  File \"/Users/lynn/.pyenv/versions/3.7.0/lib/python3.7/asyncio/base_events.py\", line 523, in run_forever\n",
    "    self._run_once()\n",
    "  File \"/Users/lynn/.pyenv/versions/3.7.0/lib/python3.7/asyncio/base_events.py\", line 1722, in _run_once\n",
    "    event_list = self._selector.select(timeout)\n",
    "  File \"/Users/lynn/.pyenv/versions/3.7.0/lib/python3.7/selectors.py\", line 558, in select\n",
    "    kev_list = self._selector.control(None, max_ev, timeout)\n",
    "KeyboardInterrupt\n",
    "</code></pre>"
   ]
  },
  {
   "cell_type": "markdown",
   "metadata": {
    "slideshow": {
     "slide_type": "notes"
    }
   },
   "source": [
    "We get an error saying \"exception was never retrieved.\" This is admittedly a part of the `asyncio` API that's not that friendly. If this was synchronous code, we'd simply see the error that we raised. But it get's swallowed up into this unretrieved task. \n",
    "\n",
    "So to deal with this, as [advised in the asyncio documentation](https://docs.python.org/3/library/asyncio-dev.html#detect-exceptions-never-consumed), we'll need to have a wrapper coroutine to consume the exception and stop the loop."
   ]
  },
  {
   "cell_type": "code",
   "execution_count": 46,
   "metadata": {
    "slideshow": {
     "slide_type": "subslide"
    }
   },
   "outputs": [],
   "source": [
    "async def handle_exception(coro, loop):\n",
    "    try:\n",
    "        await coro\n",
    "    except Exception as e:\n",
    "        logging.error(f'Caught exception: {e}')\n",
    "        loop.stop()  # may not need/want to do this"
   ]
  },
  {
   "cell_type": "code",
   "execution_count": null,
   "metadata": {
    "slideshow": {
     "slide_type": "fragment"
    }
   },
   "outputs": [],
   "source": [
    "if __name__ == '__main__':\n",
    "    queue = asyncio.Queue()\n",
    "\n",
    "    loop = asyncio.get_event_loop()\n",
    "    loop.create_task(handle_exception(publish(queue, 5), loop))\n",
    "    loop.create_task(handle_exception(consume(queue), loop))\n",
    "    try:\n",
    "        loop.run_forever()\n",
    "    finally:\n",
    "        logging.info('Cleaning up')\n",
    "        loop.close()"
   ]
  },
  {
   "cell_type": "markdown",
   "metadata": {
    "slideshow": {
     "slide_type": "notes"
    }
   },
   "source": [
    "So we make a little top-level wrapper to run and handle exceptions from coroutines. So now when we run our script, we get something a little cleaner:"
   ]
  },
  {
   "cell_type": "markdown",
   "metadata": {
    "slideshow": {
     "slide_type": "subslide"
    }
   },
   "source": [
    "```sh\n",
    "$ python mandrill/mayhem_4.py\n",
    "```\n",
    "<pre><code>\n",
    "17:46:01,208 INFO: Published 1 of 5 messages\n",
    "17:46:01,208 INFO: Published 2 of 5 messages\n",
    "17:46:01,208 INFO: Published 3 of 5 messages\n",
    "17:46:01,208 INFO: Published 4 of 5 messages\n",
    "17:46:01,209 INFO: Published 5 of 5 messages\n",
    "17:46:01,209 INFO: Consumed Message(inst_name='cattle-hotv')\n",
    "17:46:01,824 INFO: Consumed Message(inst_name='cattle-un2v')\n",
    "17:46:02,139 INFO: Consumed Message(inst_name='cattle-0qe3')\n",
    "<span class=\"asyncio-hl\">17:46:02,671 ERROR: Caught exception: an exception happened!</span>\n",
    "17:46:02,672 INFO: Cleaning up\n",
    "</code></pre>"
   ]
  },
  {
   "cell_type": "markdown",
   "metadata": {
    "slideshow": {
     "slide_type": "notes"
    }
   },
   "source": [
    "Ah that's a bit more clear."
   ]
  },
  {
   "cell_type": "code",
   "execution_count": 44,
   "metadata": {
    "slideshow": {
     "slide_type": "skip"
    }
   },
   "outputs": [],
   "source": [
    "async def handle_exception(coro, loop):\n",
    "    try:\n",
    "        await coro\n",
    "    except Exception as e:\n",
    "        logging.error(f'Caught exception: {e}', exc_info=e)\n",
    "        loop.stop()"
   ]
  },
  {
   "cell_type": "markdown",
   "metadata": {
    "slideshow": {
     "slide_type": "skip"
    }
   },
   "source": [
    "If you'd like to see more information about that exception, we can update the log line to also return the traceback."
   ]
  },
  {
   "cell_type": "markdown",
   "metadata": {
    "slideshow": {
     "slide_type": "skip"
    }
   },
   "source": [
    "```sh\n",
    "python mandrill/mayhem_4.py\n",
    "```\n",
    "```\n",
    "13:57:33,934 INFO: Published 1 of 5 messages\n",
    "13:57:33,934 INFO: Published 2 of 5 messages\n",
    "13:57:33,934 INFO: Published 3 of 5 messages\n",
    "13:57:33,934 INFO: Published 4 of 5 messages\n",
    "13:57:33,934 INFO: Published 5 of 5 messages\n",
    "13:57:33,934 INFO: Consumed Message(inst_name='cattle-7mkj')\n",
    "13:57:34,311 INFO: Consumed Message(inst_name='cattle-rx3o')\n",
    "13:57:35,117 INFO: Consumed Message(inst_name='cattle-t6ut')\n",
    "13:57:35,951 ERROR: Caught exception: an exception happened!\n",
    "Traceback (most recent call last):\n",
    "  File \"mandrill/mayhem_4.py\", line 67, in handle_exception\n",
    "    await fn()\n",
    "  File \"mandrill/mayhem_4.py\", line 53, in consume\n",
    "    raise Exception('an exception happened!')\n",
    "Exception: an exception happened!\n",
    "13:57:35,952 INFO: Cleaning up\n",
    "```"
   ]
  },
  {
   "cell_type": "markdown",
   "metadata": {
    "slideshow": {
     "slide_type": "subslide"
    }
   },
   "source": [
    "<h1><span style=\"font-size:50%;font-style:italic;color:gray;\">TL;DR: Running an <code>asyncio</code>-based service</span></h1>"
   ]
  },
  {
   "cell_type": "markdown",
   "metadata": {
    "slideshow": {
     "slide_type": "fragment"
    }
   },
   "source": [
    "* Don't accidentally swallow exceptions; be sure to \"retrieve\" them"
   ]
  },
  {
   "cell_type": "markdown",
   "metadata": {
    "slideshow": {
     "slide_type": "fragment"
    }
   },
   "source": [
    "* Clean up after yourself – `loop.close()`"
   ]
  },
  {
   "cell_type": "markdown",
   "metadata": {
    "slideshow": {
     "slide_type": "notes"
    }
   },
   "source": [
    "So far, for setting up an asyncio service, you want to be sure you surface the exceptions from your coroutines, and to clean up what you've created. We'll expand on that clean up bit later on. This is clean enough for now."
   ]
  },
  {
   "cell_type": "markdown",
   "metadata": {
    "slideshow": {
     "slide_type": "slide"
    }
   },
   "source": [
    "<h1>We're still blocking</h1>\n",
    "<img src=\"images/surprised_mandrill_3.jpg\" alt=\"yelling mandrill\"/>"
   ]
  },
  {
   "cell_type": "markdown",
   "metadata": {
    "slideshow": {
     "slide_type": "notes"
    }
   },
   "source": [
    "I've seen quite a tutorials that make use of `async` and `await` in a way that, while does not block the event loop, is still iterating through tasks serially, effectively not actually adding any concurrency. \n",
    "\n",
    "Taking a look at where our script is now:"
   ]
  },
  {
   "cell_type": "code",
   "execution_count": null,
   "metadata": {
    "slideshow": {
     "slide_type": "subslide"
    }
   },
   "outputs": [],
   "source": [
    "async def publish(queue, n):\n",
    "    for x in range(1, n + 1):\n",
    "        instance_name = f'cattle-{x}'\n",
    "        msg = Message(msg_id=x, inst_name=instance_name)\n",
    "                \n",
    "        await queue.put(msg)\n",
    "        logging.info(f'Published {x} of {n} messages')\n",
    "\n",
    "    await queue.put(None)  # publisher is done"
   ]
  },
  {
   "cell_type": "code",
   "execution_count": null,
   "metadata": {
    "slideshow": {
     "slide_type": "fragment"
    }
   },
   "outputs": [],
   "source": [
    "async def consume(queue):\n",
    "    while True:\n",
    "        msg = await queue.get()\n",
    "        if msg.msg_id == 4:\n",
    "            raise Exception('an exception happened!')\n",
    "\n",
    "        if msg is None:  # publisher is done\n",
    "            break\n",
    "\n",
    "        logging.info(f'Consumed {msg}')\n",
    "        await asyncio.sleep(random.random())  # some i/o work"
   ]
  },
  {
   "cell_type": "markdown",
   "metadata": {
    "slideshow": {
     "slide_type": "notes"
    }
   },
   "source": [
    "As this was adapted from [the asyncio tutorial](http://asyncio.readthedocs.io/en/latest/producer_consumer.html), we are still serially processing each item we produce, and then consume. The event loop itself isn't blocked; if we had other tasks/coroutines going on, they of course wouldn't be blocked. \n",
    "\n",
    "This might seem obvious to some, but it definitely isn't to all. We **are** blocking ourselves; first we produce all the messages, one by one. Then we consume them, one by one. The loops we have (`for x in range(1, n+1)` in `publish()`, and `while True` in `consume()`) block ourselves from moving onto the next message while we await to do something. \n",
    "\n",
    "While this is technically a working example of a pub/sub-like queue with `asyncio`, it's not what we want. Whether we are building an event-driven service (like this walk through), or a pipeline/batch job, we're not taking advantage of the concurrency that `asyncio` can provide."
   ]
  },
  {
   "cell_type": "markdown",
   "metadata": {
    "slideshow": {
     "slide_type": "subslide"
    }
   },
   "source": [
    "## Aside: Compare to synchronous code"
   ]
  },
  {
   "cell_type": "markdown",
   "metadata": {
    "slideshow": {
     "slide_type": "notes"
    }
   },
   "source": [
    "I find `asyncio`'s API to be quite user-friendly (although some [disagree](https://veriny.tf/asyncio-a-dumpster-fire-of-bad-design/) with valid reasons). It's very easy to get up and running with the event loop. When first picking up concurrency, this `async` and `await` syntax makes it a low hurdle to start using since it makes it very similar to writing synchronous code. \n",
    "\n",
    "But again, when first picking up concurrency, this API is deceptive and misleading. Yes, we are using the event loop and `asyncio` primatives. Yes it does work. Yes it seems faster – but that's probably because you just came from 2.7 (welcome to 2014, by the way)."
   ]
  },
  {
   "cell_type": "code",
   "execution_count": null,
   "metadata": {
    "slideshow": {
     "slide_type": "subslide"
    }
   },
   "outputs": [],
   "source": [
    "import queue\n",
    "\n",
    "if __name__ == '__main__':\n",
    "    queue = queue.Queue()\n",
    "    publish(queue, 5)\n",
    "    consume(queue)"
   ]
  },
  {
   "cell_type": "markdown",
   "metadata": {
    "slideshow": {
     "slide_type": "notes"
    }
   },
   "source": [
    "To illustrate how it's no different than synchronous code, here's the same script with all `asyncio`-related primatives removed; we'll just look at `consume` since `publish` is pretty much the same:"
   ]
  },
  {
   "cell_type": "code",
   "execution_count": null,
   "metadata": {
    "slideshow": {
     "slide_type": "skip"
    }
   },
   "outputs": [],
   "source": [
    "def publish(queue, n):\n",
    "    for x in range(1, n + 1):\n",
    "        instance_name = f'cattle-{x}'\n",
    "        msg = Message(msg_id=x, inst_name=instance_name)\n",
    "    \n",
    "        queue.put(msg)\n",
    "        logging.info(f'Published {x} of {n} messages')\n",
    "\n",
    "    queue.put(None)  # publisher is done"
   ]
  },
  {
   "cell_type": "code",
   "execution_count": null,
   "metadata": {
    "slideshow": {
     "slide_type": "skip"
    }
   },
   "outputs": [],
   "source": [
    "async def publish(queue, n):\n",
    "    for x in range(1, n + 1):\n",
    "        instance_name = f'cattle-{x}'\n",
    "        msg = Message(msg_id=x, inst_name=instance_name)\n",
    "                \n",
    "        await queue.put(msg)\n",
    "        logging.info(f'Published {x} of {n} messages')\n",
    "\n",
    "    await queue.put(None)  # publisher is done"
   ]
  },
  {
   "cell_type": "markdown",
   "metadata": {
    "slideshow": {
     "slide_type": "subslide"
    }
   },
   "source": [
    "```py3\n",
    "def consume(queue):\n",
    "    while True:\n",
    "        msg = queue.get()\n",
    "        if msg.msg_id == 4:\n",
    "            raise Exception('an exception happened!')\n",
    "\n",
    "        if msg is None:  # publisher is done\n",
    "            break\n",
    "\n",
    "        logging.info(f'Consumed {msg}')\n",
    "        time.sleep(random.random())  # some blocking i/o work\n",
    "```\n",
    "```py3\n",
    "async def consume(queue):\n",
    "    while True:\n",
    "        msg = await queue.get()\n",
    "        if msg.msg_id == 4:\n",
    "            raise Exception('an exception happened!')\n",
    "\n",
    "        if msg is None:  # publisher is done\n",
    "            break\n",
    "\n",
    "        logging.info(f'Consumed {msg}')\n",
    "        await asyncio.sleep(random.random())  # some i/o work\n",
    "```"
   ]
  },
  {
   "cell_type": "markdown",
   "metadata": {
    "slideshow": {
     "slide_type": "notes"
    }
   },
   "source": [
    "And running it shows there's not a difference (only in the \"randomness\" of `random.random`) compared to the `asyncio`-enabled approach:"
   ]
  },
  {
   "cell_type": "markdown",
   "metadata": {
    "slideshow": {
     "slide_type": "subslide"
    }
   },
   "source": [
    "```sh\n",
    "$ python mandrill/mayhem_5.py\n",
    "```\n",
    "```\n",
    "17:56:46,947 INFO: Published 1 of 5 messages\n",
    "17:56:46,947 INFO: Published 2 of 5 messages\n",
    "17:56:46,947 INFO: Published 3 of 5 messages\n",
    "17:56:46,947 INFO: Published 4 of 5 messages\n",
    "17:56:46,947 INFO: Published 5 of 5 messages\n",
    "17:56:46,947 INFO: Consumed Message(inst_name='cattle-q10b')\n",
    "17:56:47,318 INFO: Consumed Message(inst_name='cattle-n7eg')\n",
    "17:56:48,204 INFO: Consumed Message(inst_name='cattle-mrij')\n",
    "17:56:48,899 INFO: Consumed Message(inst_name='cattle-se82')\n",
    "17:56:49,726 INFO: Consumed Message(inst_name='cattle-rkst')\n",
    "```"
   ]
  },
  {
   "cell_type": "markdown",
   "metadata": {
    "slideshow": {
     "slide_type": "notes"
    }
   },
   "source": [
    "Part of the problem could be that documentation and tutorial writers are presuming knowledge and the ability to extrapolate over-simplified examples. But it's mainly because concurrency is just a difficult paradigm to grasp in general. We write code as we read anything: left-to-right, top-to-bottom. Most of us are just not use to multitasking and context switching that our modern computers allow us. Hell, even if we are familiar with concurrent programming, understanding a concurrent system is hard."
   ]
  },
  {
   "cell_type": "markdown",
   "metadata": {
    "slideshow": {
     "slide_type": "slide"
    }
   },
   "source": [
    "<h1>Actually being concurrent</h1>\n",
    "<img src=\"images/mandrill_babies.jpeg\" alt=\"yelling mandrill\" />"
   ]
  },
  {
   "cell_type": "markdown",
   "metadata": {
    "slideshow": {
     "slide_type": "notes"
    }
   },
   "source": [
    "But we're not in over our heads yet. We can still make this simulated chaos monkey service *actually* concurrent in a rather simple way.\n",
    "\n",
    "To reiterate our goal here: we want to build an event-driven service that consumes from a pub/sub, and processes messages as they come in. We could get thousands of messages in seconds, so as we get a message, we shouldn't block the handling of the next message we receive.\n",
    "\n",
    "To help facilitate this, we'll also need to build a service that actually runs forever. We're not going to have a pre-set number of messages; we need to react whenever we're told to restart an instance. The triggering event to publish a restart request message could be an on-demand request from a service owner, or a scheduled gradually rolling restart of the fleet."
   ]
  },
  {
   "cell_type": "markdown",
   "metadata": {
    "slideshow": {
     "slide_type": "subslide"
    }
   },
   "source": [
    "<h1><span style=\"font-size:50%;font-style:italic;color:gray;\">Actually being concurrent</span><br/>Concurrent publisher</h1>"
   ]
  },
  {
   "cell_type": "markdown",
   "metadata": {
    "slideshow": {
     "slide_type": "notes"
    }
   },
   "source": [
    "Let's first create a mock publisher that will always be publishing restart request messages, and therefore never indicate that it's done. "
   ]
  },
  {
   "cell_type": "code",
   "execution_count": null,
   "metadata": {
    "slideshow": {
     "slide_type": "subslide"
    }
   },
   "outputs": [],
   "source": [
    "async def publish(queue):\n",
    "    choices = string.ascii_lowercase + string.digits\n",
    "    while True:\n",
    "        host_id = ''.join(random.choices(choices, k=4))\n",
    "        msg = Message(\n",
    "            msg_id=str(uuid.uuid4()), \n",
    "            inst_name=f'cattle-{host_id}')\n",
    "\n",
    "        await queue.put(msg)\n",
    "        logging.info(f'Published {msg}')\n",
    "\n",
    "        # simulate randomness of publishing messages\n",
    "        await asyncio.sleep(random.random())"
   ]
  },
  {
   "cell_type": "markdown",
   "metadata": {
    "slideshow": {
     "slide_type": "notes"
    }
   },
   "source": [
    "This also means we're not providing a set number of messages to publish, so we have to rework that a bit, too.\n",
    "\n",
    "Here I'm just adding the creation of a unique ID for each message produced.\n",
    "\n",
    "And we try running it:"
   ]
  },
  {
   "cell_type": "markdown",
   "metadata": {
    "slideshow": {
     "slide_type": "subslide"
    }
   },
   "source": [
    "```sh\n",
    "$ python mandrill/mayhem_6.py\n",
    "```\n",
    "<pre><code>\n",
    "18:08:02,995 INFO: Published Message(inst_name='cattle-w8kz')\n",
    "18:08:03,988 INFO: Published Message(inst_name='cattle-fr4o')\n",
    "18:08:04,587 INFO: Published Message(inst_name='cattle-vlyg')\n",
    "18:08:05,270 INFO: Published Message(inst_name='cattle-v6zu')\n",
    "18:08:05,558 INFO: Published Message(inst_name='cattle-mws2')\n",
    "^C18:08:05,903 INFO: Cleaning up\n",
    "Traceback (most recent call last):\n",
    "  File \"mandrill/mayhem_6.py\", line 60, in <module>\n",
    "    loop.run_forever()\n",
    "  File \"/Users/lynn/.pyenv/versions/3.7.0/lib/python3.7/asyncio/base_events.py\", line 523, in run_forever\n",
    "    self._run_once()\n",
    "  File \"/Users/lynn/.pyenv/versions/3.7.0/lib/python3.7/asyncio/base_events.py\", line 1722, in _run_once\n",
    "    event_list = self._selector.select(timeout)\n",
    "  File \"/Users/lynn/.pyenv/versions/3.7.0/lib/python3.7/selectors.py\", line 558, in select\n",
    "    kev_list = self._selector.control(None, max_ev, timeout)\n",
    "<span style=\"asyncio-hl\">KeyboardInterrupt</span>\n",
    "</code></pre>"
   ]
  },
  {
   "cell_type": "markdown",
   "metadata": {
    "slideshow": {
     "slide_type": "notes"
    }
   },
   "source": [
    "We're happily creating and publishing messages, but you'll notice that `KeyboardInterrupt` – trigged by the `^C` – is not actually caught."
   ]
  },
  {
   "cell_type": "code",
   "execution_count": null,
   "metadata": {
    "slideshow": {
     "slide_type": "subslide"
    }
   },
   "outputs": [],
   "source": [
    "if __name__ == '__main__':\n",
    "    # <--snip-->\n",
    "    try:\n",
    "        loop.create_task(publish(queue))\n",
    "        loop.run_forever()\n",
    "    except KeyboardInterrupt:\n",
    "        logging.info('Interrupted')\n",
    "    finally:\n",
    "        logging.info('Cleaning up')\n",
    "        loop.stop()"
   ]
  },
  {
   "cell_type": "markdown",
   "metadata": {
    "slideshow": {
     "slide_type": "notes"
    }
   },
   "source": [
    "Let's quickly clean up that traceback from the `KeyboardInterrupt`; it's a quick bandaid, as further explained later on.\n",
    "\n",
    "So now we see:"
   ]
  },
  {
   "cell_type": "markdown",
   "metadata": {
    "slideshow": {
     "slide_type": "subslide"
    }
   },
   "source": [
    "```sh\n",
    "$ python mandrill/mayhem_6.py\n",
    "```\n",
    "```\n",
    "18:09:48,337 INFO: Published Message(inst_name='cattle-s8x2')\n",
    "18:09:48,643 INFO: Published Message(inst_name='cattle-4aat')\n",
    "^C18:09:49,83 INFO: Interrupted\n",
    "18:09:49,83 INFO: Cleaning up\n",
    "```"
   ]
  },
  {
   "cell_type": "markdown",
   "metadata": {
    "slideshow": {
     "slide_type": "notes"
    }
   },
   "source": [
    "Fantastic! Much cleaner.\n",
    "\n",
    "So, it's probably hard to see how this is concurrent right now. Let's add multiple producers to help see this fact."
   ]
  },
  {
   "cell_type": "code",
   "execution_count": null,
   "metadata": {
    "slideshow": {
     "slide_type": "subslide"
    }
   },
   "outputs": [],
   "source": [
    "async def publish(queue, publisher_id):\n",
    "    choices = string.ascii_lowercase + string.digits\n",
    "    while True:\n",
    "        host_id = ''.join(random.choices(choices, k=4))\n",
    "        msg = Message(\n",
    "            msg_id=str(uuid.uuid4()), \n",
    "            inst_name=f'cattle-{host_id}')\n",
    "\n",
    "        await queue.put(msg)\n",
    "        logging.info(f'[{publisher_id}] Published {msg}')\n",
    "\n",
    "        await asyncio.sleep(random.random())"
   ]
  },
  {
   "cell_type": "markdown",
   "metadata": {
    "slideshow": {
     "slide_type": "notes"
    }
   },
   "source": [
    "Let's add unique publisher IDs so it's a bit easier to see the concurrency with multiple publishers."
   ]
  },
  {
   "cell_type": "code",
   "execution_count": null,
   "metadata": {
    "slideshow": {
     "slide_type": "subslide"
    }
   },
   "outputs": [],
   "source": [
    "if __name__ == '__main__':\n",
    "    # <--snip-->\n",
    "    # not that readable - sorry!\n",
    "    coros = [\n",
    "        handle_exception(publish(queue, i), loop) for i in range(1, 4)\n",
    "    ]\n",
    "\n",
    "    try:\n",
    "        [loop.create_task(coro) for coro in coros]\n",
    "        loop.run_forever()\n",
    "\n",
    "    except KeyboardInterrupt:\n",
    "        logging.info('Interrupted')\n",
    "    finally:\n",
    "        logging.info('Cleaning up')\n",
    "        loop.stop()"
   ]
  },
  {
   "cell_type": "markdown",
   "metadata": {
    "slideshow": {
     "slide_type": "notes"
    }
   },
   "source": [
    "We'll create three publishers real quick, and when running:"
   ]
  },
  {
   "cell_type": "markdown",
   "metadata": {
    "slideshow": {
     "slide_type": "subslide"
    }
   },
   "source": [
    "```sh\n",
    "$ python mandrill/mayhem_7.py\n",
    "```\n",
    "<pre><code>\n",
    "18:15:38,838 INFO: <span style=\"background:#f2dfd7\">[1]</span> Published Message(inst_name='cattle-tnh8')\n",
    "18:15:38,838 INFO: <span style=\"background:#8ac3ec\">[2]</span> Published Message(inst_name='cattle-wyt2')\n",
    "18:15:38,838 INFO: <span style=\"background:#FFFC79\">[3]</span> Published Message(inst_name='cattle-kh0l')\n",
    "18:15:39,119 INFO: <span style=\"background:#f2dfd7\">[1]</span> Published Message(inst_name='cattle-5u61')\n",
    "18:15:39,615 INFO: <span style=\"background:#FFFC79\">[3]</span> Published Message(inst_name='cattle-mbvw')\n",
    "18:15:39,689 INFO: <span style=\"background:#f2dfd7\">[1]</span> Published Message(inst_name='cattle-80ro')\n",
    "18:15:39,774 INFO: <span style=\"background:#8ac3ec\">[2]</span> Published Message(inst_name='cattle-xlm4')\n",
    "18:15:39,865 INFO: <span style=\"background:#f2dfd7\">[1]</span> Published Message(inst_name='cattle-hlwx')\n",
    "18:15:39,872 INFO: <span style=\"background:#8ac3ec\">[2]</span> Published Message(inst_name='cattle-7l1v')\n",
    "18:15:40,273 INFO: <span style=\"background:#FFFC79\">[3]</span> Published Message(inst_name='cattle-gf6k')\n",
    "18:15:40,294 INFO: <span style=\"background:#f2dfd7\">[1]</span> Published Message(inst_name='cattle-iq3r')\n",
    "^C18:15:40,637 INFO: Interrupted\n",
    "18:15:40,637 INFO: Cleaning up\n",
    "</code></pre>"
   ]
  },
  {
   "cell_type": "markdown",
   "metadata": {
    "slideshow": {
     "slide_type": "notes"
    }
   },
   "source": [
    "Huzzah! \n",
    "\n",
    "For the rest of the walk through, I'll remove the multiple publishers; this was just to easily convey that it's now concurrent, not just non-blocking."
   ]
  },
  {
   "cell_type": "markdown",
   "metadata": {
    "slideshow": {
     "slide_type": "subslide"
    }
   },
   "source": [
    "<h1><span style=\"font-size:50%;color:gray;font-style:italic;\">Actually being concurrent</span><br/>Concurrent consumer</h1>"
   ]
  },
  {
   "cell_type": "markdown",
   "metadata": {
    "slideshow": {
     "slide_type": "notes"
    }
   },
   "source": [
    "Now time to add concurrency to the consumer bit. For this, the goal is to constantly consume messages from the queue and create non-blocking work based off of a newly-consumed message; in this case, to restart an instance.\n",
    "\n",
    "The tricky part is the consumer needs to be written in a way that the consumption of a new message from the queue is separate from when the consumption happens. In other words, we have to simulate being \"event-driven\" by regularly pulling for a message in the queue since there's no way to trigger work based off of a new message available in the queue (a.k.a. push-based). Remember that the producer coroutine function is merely meant to simulate an external pub/sub like Google Cloud Pub/Sub (not promoting, just most familiar)."
   ]
  },
  {
   "cell_type": "code",
   "execution_count": null,
   "metadata": {
    "slideshow": {
     "slide_type": "subslide"
    }
   },
   "outputs": [],
   "source": [
    "async def restart_host(msg):\n",
    "    # unhelpful simulation of i/o work\n",
    "    await asyncio.sleep(random.random())\n",
    "    logging.info(f'Restarted {msg.hostname}')"
   ]
  },
  {
   "cell_type": "markdown",
   "metadata": {
    "slideshow": {
     "slide_type": "notes"
    }
   },
   "source": [
    "Let's first mock the restart work that needs to be done on any consumed message"
   ]
  },
  {
   "cell_type": "code",
   "execution_count": null,
   "metadata": {
    "slideshow": {
     "slide_type": "fragment"
    }
   },
   "outputs": [],
   "source": [
    "async def consume(queue):\n",
    "    while True:\n",
    "        msg = await queue.get()\n",
    "        logging.info(f'Pulled {msg}')\n",
    "\n",
    "        await restart_host(msg)"
   ]
  },
  {
   "cell_type": "markdown",
   "metadata": {
    "slideshow": {
     "slide_type": "notes"
    }
   },
   "source": [
    "We'll stick with our `while True` loop and await for the next message on the queue, then pass it off to `restart_host`"
   ]
  },
  {
   "cell_type": "code",
   "execution_count": null,
   "metadata": {
    "slideshow": {
     "slide_type": "subslide"
    }
   },
   "outputs": [],
   "source": [
    "if __name__ == '__main__':\n",
    "    queue = asyncio.Queue()\n",
    "    loop = asyncio.get_event_loop()\n",
    "\n",
    "    publisher_coro = handle_exception(publish(queue), loop)\n",
    "    consumer_coro = handle_exception(consume(queue), loop)\n",
    "\n",
    "    try:\n",
    "        loop.create_task(publisher_coro)\n",
    "        loop.create_task(consumer_coro)\n",
    "        loop.run_forever()\n",
    "    except KeyboardInterrupt:\n",
    "        logging.info('Interrupted')\n",
    "    finally:\n",
    "        logging.info('Cleaning up')\n",
    "        loop.stop()"
   ]
  },
  {
   "cell_type": "markdown",
   "metadata": {
    "slideshow": {
     "slide_type": "notes"
    }
   },
   "source": [
    "Then adding it to our loop"
   ]
  },
  {
   "cell_type": "markdown",
   "metadata": {
    "slideshow": {
     "slide_type": "subslide"
    }
   },
   "source": [
    "```sh\n",
    "$ python mandrill/mayhem_8.py\n",
    "```\n",
    "```\n",
    "18:22:07,286 INFO: Pulled Message(inst_name='cattle-1dnw')\n",
    "18:22:07,468 INFO: Pulled Message(inst_name='cattle-05iq')\n",
    "18:22:07,715 INFO: Pulled Message(inst_name='cattle-auau')\n",
    "18:22:07,863 INFO: Restarted cattle-05iq.example.net\n",
    "18:22:07,987 INFO: Restarted cattle-1dnw.example.net\n",
    "18:22:08,072 INFO: Pulled Message(inst_name='cattle-fbga')\n",
    "18:22:08,119 INFO: Restarted cattle-auau.example.net\n",
    "18:22:08,309 INFO: Restarted cattle-fbga.example.net\n",
    "18:22:08,545 INFO: Pulled Message(inst_name='cattle-q9pl')\n",
    "18:22:08,576 INFO: Pulled Message(inst_name='cattle-i4qb')\n",
    "^C18:22:08,630 INFO: Interrupted\n",
    "18:22:08,630 INFO: Cleaning up\n",
    "```"
   ]
  },
  {
   "cell_type": "markdown",
   "metadata": {
    "slideshow": {
     "slide_type": "notes"
    }
   },
   "source": [
    "Nice. We're now pulling for messages whenever they're available."
   ]
  },
  {
   "cell_type": "markdown",
   "metadata": {
    "slideshow": {
     "slide_type": "subslide"
    }
   },
   "source": [
    "<h1><span style=\"font-size:50%;color:gray;font-style:italic;\">Actually being concurrent</span><br/>Concurrent work</h1>"
   ]
  },
  {
   "cell_type": "markdown",
   "metadata": {
    "slideshow": {
     "slide_type": "notes"
    }
   },
   "source": [
    "We may want to do more than one thing per message."
   ]
  },
  {
   "cell_type": "code",
   "execution_count": null,
   "metadata": {
    "slideshow": {
     "slide_type": "subslide"
    }
   },
   "outputs": [],
   "source": [
    "async def restart_host(msg):\n",
    "    # unhelpful simulation of i/o work\n",
    "    await asyncio.sleep(random.random())\n",
    "    logging.info(f'Restarted {msg.hostname}')\n",
    "    \n",
    "async def save(msg):\n",
    "    # unhelpful simulation of i/o work\n",
    "    await asyncio.sleep(random.random())\n",
    "    logging.info(f'Saved {msg} into database')"
   ]
  },
  {
   "cell_type": "markdown",
   "metadata": {
    "slideshow": {
     "slide_type": "notes"
    }
   },
   "source": [
    "For example, we'd like to store the message in a database for potentially replaying later as well as initiate a restart of the given host:"
   ]
  },
  {
   "cell_type": "code",
   "execution_count": null,
   "metadata": {
    "slideshow": {
     "slide_type": "subslide"
    }
   },
   "outputs": [],
   "source": [
    "async def consume(queue):\n",
    "    while True:\n",
    "        msg = await queue.get()\n",
    "        logging.info(f'Pulled {msg}')\n",
    "\n",
    "        # potentially not what you want\n",
    "        await save(msg)\n",
    "        await restart_host(msg)"
   ]
  },
  {
   "cell_type": "markdown",
   "metadata": {
    "slideshow": {
     "slide_type": "notes"
    }
   },
   "source": [
    "Within the `consume` coroutine function, we _could_ just `await` on both coroutines serially"
   ]
  },
  {
   "cell_type": "markdown",
   "metadata": {
    "slideshow": {
     "slide_type": "subslide"
    }
   },
   "source": [
    "```sh\n",
    "$ python mandrill/mayhem_9.py\n",
    "```\n",
    "<pre><code>\n",
    "<span class=\"asyncio-hl\">18:24:50,840 INFO: Pulled Message(inst_name='cattle-nbmv')</span>\n",
    "<span class=\"asyncio-hl2\">18:24:50,944 INFO: Pulled Message(inst_name='cattle-7npf')</span>\n",
    "18:24:51,534 INFO: Pulled Message(inst_name='cattle-v8cl')\n",
    "<span class=\"asyncio-hl\">18:24:51,647 INFO: Saved Message(inst_name='cattle-nbmv') into database</span>\n",
    "<span class=\"asyncio-hl2\">18:24:51,671 INFO: Saved Message(inst_name='cattle-7npf') into database</span>\n",
    "<span class=\"asyncio-hl\">18:24:51,695 INFO: Restarted cattle-7npf.example.net</span>\n",
    "<span class=\"asyncio-hl\">18:24:51,789 INFO: Restarted cattle-nbmv.example.net</span>\n",
    "18:24:51,909 INFO: Pulled Message(inst_name='cattle-788c')\n",
    "18:24:52,361 INFO: Saved Message(inst_name='cattle-v8cl') into database\n",
    "18:24:52,431 INFO: Saved Message(inst_name='cattle-788c') into database\n",
    "18:24:52,784 INFO: Pulled Message(insr_name='cattle-275p')\n",
    "18:24:52,842 INFO: Restarted cattle-788c.example.net\n",
    "18:24:53,103 INFO: Restarted cattle-v8cl.example.net\n",
    "18:24:53,534 INFO: Saved Message(inst_name='cattle-275p') into database\n",
    "^C18:24:53,613 INFO: Interrupted\n",
    "18:24:53,613 INFO: Cleaning up\n",
    "</code></pre>"
   ]
  },
  {
   "cell_type": "markdown",
   "metadata": {
    "slideshow": {
     "slide_type": "notes"
    }
   },
   "source": [
    "We can see that although it doesn't block the consumption of messages, `await save(msg)` blocks `await restart_host(msg)`. But, perhaps we don't _need_ to await these two coroutines one right after another. These two tasks don't necessarily need to depend on one another – completely side-stepping the potential concern/complexity of \"should we restart a host if we fail to add the message to the database\"."
   ]
  },
  {
   "cell_type": "code",
   "execution_count": null,
   "metadata": {
    "slideshow": {
     "slide_type": "subslide"
    }
   },
   "outputs": [],
   "source": [
    "async def consume(queue):\n",
    "    while True:\n",
    "        msg = await queue.get()\n",
    "        logging.info(f'Pulled {msg}')\n",
    "\n",
    "        asyncio.create_task(save(msg))\n",
    "        asyncio.create_task(restart_host(msg))"
   ]
  },
  {
   "cell_type": "markdown",
   "metadata": {
    "slideshow": {
     "slide_type": "notes"
    }
   },
   "source": [
    "So let's treat them as such. Instead of awaiting them, we can call create_task to have them scheduled on the loop, basically chucking it over to the loop for it to execute when it next can. "
   ]
  },
  {
   "cell_type": "markdown",
   "metadata": {
    "slideshow": {
     "slide_type": "subslide"
    }
   },
   "source": [
    "```sh\n",
    "$ python mandrill/mayhem_10.py\n",
    "```\n",
    "```\n",
    "18:49:22,114 INFO: Pulled Message(inst_name='cattle-7tsz')\n",
    "18:49:22,219 INFO: Pulled Message(inst_name='cattle-1kgp')\n",
    "18:49:22,272 INFO: Saved Message(inst_name='cattle-7tsz') into database\n",
    "18:49:22,512 INFO: Restarted cattle-1kgp.example.net\n",
    "18:49:22,640 INFO: Restarted cattle-7tsz.example.net\n",
    "18:49:22,716 INFO: Saved Message(inst_name='cattle-1kgp') into database\n",
    "18:49:22,998 INFO: Pulled Message(inst_name='cattle-1wdy')\n",
    "18:49:23,043 INFO: Saved Message(inst_name='cattle-1wdy') into database\n",
    "18:49:23,279 INFO: Pulled Message(inst_name='cattle-e9rl')\n",
    "18:49:23,370 INFO: Restarted cattle-1wdy.example.net\n",
    "18:49:23,479 INFO: Pulled Message(inst_name='cattle-crnh')\n",
    "18:49:23,612 INFO: Saved Message(inst_name='cattle-crnh') into database\n",
    "18:49:24,155 INFO: Restarted cattle-e9rl.example.net\n",
    "18:49:24,173 INFO: Saved Message(inst_name='cattle-e9rl') into database\n",
    "18:49:24,259 INFO: Pulled Message(inst_name='cattle-hbbd')\n",
    "18:49:24,279 INFO: Restarted cattle-crnh.example.net\n",
    "18:49:24,292 INFO: Pulled Message(inst_name='cattle-8mg0')\n",
    "18:49:24,324 INFO: Saved Message(inst_name='cattle-hbbd') into database\n",
    "18:49:24,550 INFO: Saved Message(inst_name='cattle-8mg0') into database\n",
    "18:49:24,716 INFO: Pulled Message(inst_name='cattle-hyv1')\n",
    "18:49:24,817 INFO: Saved Message(inst_name='cattle-hyv1') into database\n",
    "^C18:49:25,17 INFO: Interrupted\n",
    "18:49:25,18 INFO: Cleaning up\n",
    "```"
   ]
  },
  {
   "cell_type": "markdown",
   "metadata": {
    "slideshow": {
     "slide_type": "notes"
    }
   },
   "source": [
    "Yay!"
   ]
  },
  {
   "cell_type": "markdown",
   "metadata": {
    "slideshow": {
     "slide_type": "subslide"
    }
   },
   "source": [
    "## Aside: When you want serial work"
   ]
  },
  {
   "cell_type": "code",
   "execution_count": null,
   "metadata": {
    "slideshow": {
     "slide_type": "fragment"
    }
   },
   "outputs": [],
   "source": [
    "async def consume(queue):\n",
    "    while True:\n",
    "        msg = await queue.get()\n",
    "        logging.info(f'Pulled {msg}')\n",
    "\n",
    "        # potentially what you want\n",
    "        last_restart = await last_restart_date(msg)\n",
    "        if today - last_restart > max_days:\n",
    "            await restart_host(msg)"
   ]
  },
  {
   "cell_type": "markdown",
   "metadata": {
    "slideshow": {
     "slide_type": "notes"
    }
   },
   "source": [
    "As an aside, sometimes you want to your work to happen serially. \n",
    "\n",
    "Maybe you restart hosts that have an uptime of more than 7 days. Or maybe you should check the balance of an account before you debit it. Needing code to be serial, to have steps or dependencies, it doesn't mean that you can't be asynchronous. The `await last_restart_date` will yield to the loop, but it doesn't mean that `restart_host` will be the next thing that the loop executes. It just allows other things to happen outside of this coroutine. "
   ]
  },
  {
   "cell_type": "markdown",
   "metadata": {
    "slideshow": {
     "slide_type": "subslide"
    }
   },
   "source": [
    "<img src=\"images/mandrill_cover_eyes.jpg\" alt=\"mandrill covering eyes\" />"
   ]
  },
  {
   "cell_type": "markdown",
   "metadata": {
    "slideshow": {
     "slide_type": "notes"
    }
   },
   "source": [
    "Yes I admit, this was a thing that wasn't immediately apparent to me at first."
   ]
  },
  {
   "cell_type": "markdown",
   "metadata": {
    "slideshow": {
     "slide_type": "subslide"
    }
   },
   "source": [
    "<h1><span style=\"font-size:50%;color:gray;font-style:italic;\">Actually being concurrent</span><br/>Message cleanup</h1>"
   ]
  },
  {
   "cell_type": "markdown",
   "metadata": {
    "slideshow": {
     "slide_type": "notes"
    }
   },
   "source": [
    "We've pulled a message from the queue, and fanned out work based off of that message."
   ]
  },
  {
   "cell_type": "code",
   "execution_count": null,
   "metadata": {
    "slideshow": {
     "slide_type": "subslide"
    }
   },
   "outputs": [],
   "source": [
    "def cleanup(msg, fut):\n",
    "    logging.info(f'Done. Acked {msg}')"
   ]
  },
  {
   "cell_type": "code",
   "execution_count": null,
   "metadata": {
    "slideshow": {
     "slide_type": "fragment"
    }
   },
   "outputs": [],
   "source": [
    "async def handle_message(msg):\n",
    "    g_future = asyncio.gather(save(msg), restart_host(msg))\n",
    "\n",
    "    callback = functools.partial(cleanup, msg)\n",
    "    g_future.add_done_callback(callback)\n",
    "    await g_future"
   ]
  },
  {
   "cell_type": "code",
   "execution_count": null,
   "metadata": {
    "slideshow": {
     "slide_type": "fragment"
    }
   },
   "outputs": [],
   "source": [
    "async def consume(queue):\n",
    "    while True:\n",
    "        msg = await queue.get()\n",
    "        logging.info(f'Pulled {msg}')\n",
    "        asyncio.create_task(handle_message(msg))"
   ]
  },
  {
   "cell_type": "markdown",
   "metadata": {
    "slideshow": {
     "slide_type": "notes"
    }
   },
   "source": [
    "Now we need to perform any finalizing work on that message; for example, acknowledging the message so it isn't re-delivered. \n",
    "\n",
    "We'll separate out the pulling of the message from the creating work off of it. Then we can make use of `asyncio.gather` to add a callback:"
   ]
  },
  {
   "cell_type": "markdown",
   "metadata": {
    "slideshow": {
     "slide_type": "subslide"
    }
   },
   "source": [
    "```sh\n",
    "$ python mandrill/mayhem_11.py\n",
    "```\n",
    "<pre><code>\n",
    "19:00:27,747 INFO: Pulled Message(inst_name='cattle-xuf1')\n",
    "19:00:27,848 INFO: Pulled Message(inst_name='cattle-kk87')\n",
    "19:00:27,861 INFO: Restarted cattle-xuf1.example.net\n",
    "19:00:28,061 INFO: Saved Message(inst_name='cattle-kk87') into database\n",
    "19:00:28,244 INFO: Restarted cattle-kk87.example.net\n",
    "<span class=\"asyncio-hl\">19:00:28,245 INFO: Done. Acked Message(inst_name='cattle-kk87')</span>\n",
    "19:00:28,572 INFO: Pulled Message(inst_name='cattle-pdej')\n",
    "19:00:28,659 INFO: Saved Message(inst_name='cattle-xuf1') into database\n",
    "<span class=\"asyncio-hl\">19:00:28,659 INFO: Done. Acked Message(inst_name='cattle-xuf1')</span>\n",
    "19:00:28,831 INFO: Saved Message(inst_name='cattle-pdej') into database\n",
    "19:00:29,333 INFO: Pulled Message(inst_name='cattle-x9kz')\n",
    "19:00:29,339 INFO: Pulled Message(inst_name='cattle-sicp')\n",
    "19:00:29,455 INFO: Restarted cattle-pdej.example.net\n",
    "<span class=\"asyncio-hl\">19:00:29,455 INFO: Done. Acked Message(inst_name='cattle-pdej')</span>\n",
    "19:00:29,506 INFO: Saved Message(inst_name='cattle-sicp') into database\n",
    "19:00:29,617 INFO: Restarted cattle-sicp.example.net\n",
    "<span class=\"asyncio-hl\">19:00:29,617 INFO: Done. Acked Message(inst_name='cattle-sicp')</span>\n",
    "19:00:29,795 INFO: Restarted cattle-x9kz.example.net\n",
    "19:00:29,914 INFO: Saved Message(inst_name='cattle-x9kz') into database\n",
    "<span class=\"asyncio-hl\">19:00:29,914 INFO: Done. Acked Message(inst_name='cattle-x9kz')</span>\n",
    "19:00:30,195 INFO: Pulled Message(inst_name='cattle-o501')\n",
    "^C19:00:30,305 INFO: Interrupted\n",
    "19:00:30,305 INFO: Cleaning up\n",
    "</code></pre>"
   ]
  },
  {
   "cell_type": "markdown",
   "metadata": {
    "slideshow": {
     "slide_type": "notes"
    }
   },
   "source": [
    "So once's both save coroutine and restart coroutine are complete, `cleanup` will be called that signifies a message is completely done:"
   ]
  },
  {
   "cell_type": "code",
   "execution_count": null,
   "metadata": {
    "slideshow": {
     "slide_type": "subslide"
    }
   },
   "outputs": [],
   "source": [
    "# let's try this again\n",
    "async def cleanup(msg):\n",
    "    logging.info(f'Done. Acked {msg}')\n",
    "    # unhelpful simulation of i/o work\n",
    "    await asyncio.sleep(0)"
   ]
  },
  {
   "cell_type": "code",
   "execution_count": null,
   "metadata": {
    "slideshow": {
     "slide_type": "fragment"
    }
   },
   "outputs": [],
   "source": [
    "async def handle_message(msg):\n",
    "    await asyncio.gather(save(msg), restart_host(msg))\n",
    "    await cleanup(msg)"
   ]
  },
  {
   "cell_type": "markdown",
   "metadata": {
    "slideshow": {
     "slide_type": "notes"
    }
   },
   "source": [
    "I personally have an allergy to callbacks. As well, perhaps we need `cleanup` to be non-blocking. \n",
    "\n",
    "Another approach could be just to `await` it"
   ]
  },
  {
   "cell_type": "markdown",
   "metadata": {
    "slideshow": {
     "slide_type": "subslide"
    }
   },
   "source": [
    "<h1><span style=\"font-size:50%;color:gray;font-style:italic;\">Actually being concurrent</span><br/>Task to monitor other tasks</h1>"
   ]
  },
  {
   "cell_type": "markdown",
   "metadata": {
    "slideshow": {
     "slide_type": "notes"
    }
   },
   "source": [
    "Now, much like Google's Pub/Sub, let's say that the publisher will redeliver a message after 10 seconds if it has not been acknowledged. We _are_ able to extend that \"timeout\" period or acknowledgement deadline for a message. In order to do that, we now have to have a coroutine that, in essence, monitors all the other worker tasks. While they're still continuing to work, this coroutine will extend the message acknowledgement deadline; then once they're done, it should stop extending and cleanup the message."
   ]
  },
  {
   "cell_type": "code",
   "execution_count": null,
   "metadata": {
    "slideshow": {
     "slide_type": "subslide"
    }
   },
   "outputs": [],
   "source": [
    "async def extend(msg, event):\n",
    "    while not event.is_set():\n",
    "        logging.info(f'Extended deadline 3s {msg}')\n",
    "        # want to sleep for less than the deadline amount\n",
    "        await asyncio.sleep(2)\n",
    "    else:\n",
    "        await cleanup(msg)"
   ]
  },
  {
   "cell_type": "code",
   "execution_count": null,
   "metadata": {
    "slideshow": {
     "slide_type": "fragment"
    }
   },
   "outputs": [],
   "source": [
    "async def handle_message(msg):\n",
    "    event = asyncio.Event()\n",
    "    asyncio.create_task(extend(msg, event))\n",
    "    await asyncio.gather(save(msg), restart_host(msg))\n",
    "    event.set()"
   ]
  },
  {
   "cell_type": "markdown",
   "metadata": {
    "slideshow": {
     "slide_type": "notes"
    }
   },
   "source": [
    "One approach is to make use of [`asyncio.Event`](https://docs.python.org/3/library/asyncio-sync.html#event) primatives."
   ]
  },
  {
   "cell_type": "markdown",
   "metadata": {
    "slideshow": {
     "slide_type": "subslide"
    }
   },
   "source": [
    "```sh\n",
    "$ python mandrill/mayhem_12.py\n",
    "```\n",
    "<pre><code>\n",
    "19:04:29,602 INFO: Pulled Message(inst_name='cattle-g7hy')\n",
    "<span class=\"asyncio-hl\">19:04:29,603 INFO: Extended deadline 3s Message(inst_name='cattle-g7hy')</span>\n",
    "19:04:29,692 INFO: Saved Message(inst_name='cattle-g7hy') into database\n",
    "19:04:30,439 INFO: Pulled Message(inst_name='cattle-wv21')\n",
    "<span class=\"asyncio-hl\">19:04:30,440 INFO: Extended deadline 3s Message(inst_name='cattle-wv21')</span>\n",
    "19:04:30,605 INFO: Restarted cattle-g7hy.example.net\n",
    "19:04:31,100 INFO: Saved Message(inst_name='cattle-wv21') into database\n",
    "19:04:31,203 INFO: Pulled Message(inst_name='cattle-40w2')\n",
    "<span class=\"asyncio-hl\">19:04:31,203 INFO: Extended deadline 3s Message(inst_name='cattle-40w2')</span>\n",
    "19:04:31,350 INFO: Pulled Message(inst_name='cattle-ouqk')\n",
    "<span class=\"asyncio-hl\">19:04:31,350 INFO: Extended deadline 3s Message(inst_name='cattle-ouqk')</span>\n",
    "19:04:31,445 INFO: Saved Message(inst_name='cattle-40w2') into database\n",
    "19:04:31,775 INFO: Done. Acked Message(inst_name='cattle-g7hy')\n",
    "19:04:31,919 INFO: Saved Message(inst_name='cattle-ouqk') into database\n",
    "19:04:32,184 INFO: Pulled Message(inst_name='cattle-oqxz')\n",
    "<span class=\"asyncio-hl\">19:04:32,184 INFO: Extended deadline 3s Message(inst_name='cattle-oqxz')</span>\n",
    "19:04:32,207 INFO: Restarted cattle-40w2.example.net\n",
    "19:04:32,356 INFO: Restarted cattle-ouqk.example.net\n",
    "<span class=\"asyncio-hl\">19:04:32,441 INFO: Extended deadline 3s Message(inst_name='cattle-wv21')</span>\n",
    "19:04:32,441 INFO: Restarted cattle-wv21.example.net\n",
    "19:04:32,559 INFO: Saved Message(inst_name='cattle-oqxz') into database\n",
    "19:04:32,661 INFO: Done. Acked Message(inst_name='cattle-40w2')\n",
    "^C19:04:32,812 INFO: Interrupted\n",
    "19:04:32,813 INFO: Cleaning up\n",
    "</code></pre>"
   ]
  },
  {
   "cell_type": "markdown",
   "metadata": {
    "slideshow": {
     "slide_type": "notes"
    }
   },
   "source": [
    "Running this, we can see we're extending while work continues, and cleaning up once done:"
   ]
  },
  {
   "cell_type": "code",
   "execution_count": null,
   "metadata": {
    "slideshow": {
     "slide_type": "subslide"
    }
   },
   "outputs": [],
   "source": [
    "# another approach\n",
    "async def cleanup(msg, event):\n",
    "    # this will block the rest of the coro until `event.set` is called\n",
    "    await event.wait()\n",
    "    logging.info(f'Done. Acked {msg}')"
   ]
  },
  {
   "cell_type": "markdown",
   "metadata": {
    "slideshow": {
     "slide_type": "notes"
    }
   },
   "source": [
    "If you _love_ events, you could even make use of `event.wait`\n",
    "\n",
    "and move the `cleanup` from extend to within handle message"
   ]
  },
  {
   "cell_type": "code",
   "execution_count": null,
   "metadata": {
    "slideshow": {
     "slide_type": "fragment"
    }
   },
   "outputs": [],
   "source": [
    "async def extend(msg, event):\n",
    "    while not event.is_set():\n",
    "        logging.info(f'Extended deadline 3s {msg}')\n",
    "        await asyncio.sleep(2)"
   ]
  },
  {
   "cell_type": "code",
   "execution_count": null,
   "metadata": {
    "slideshow": {
     "slide_type": "fragment"
    }
   },
   "outputs": [],
   "source": [
    "async def handle_message(msg):\n",
    "    event = asyncio.Event()\n",
    "\n",
    "    asyncio.create_task(extend(msg, event))\n",
    "    asyncio.create_task(cleanup(msg, event))\n",
    "\n",
    "    await asyncio.gather(save(msg), restart_host(msg))\n",
    "    event.set()"
   ]
  },
  {
   "cell_type": "markdown",
   "metadata": {
    "slideshow": {
     "slide_type": "notes"
    }
   },
   "source": [
    "Well, alright then! We got some concurrency! Let's continue with the complexity."
   ]
  },
  {
   "cell_type": "markdown",
   "metadata": {
    "slideshow": {
     "slide_type": "subslide"
    }
   },
   "source": [
    "<h1><span style=\"font-size:50%;font-style:italic;color:gray;\">TL;DR: Actually being concurrent</span></h1>"
   ]
  },
  {
   "cell_type": "markdown",
   "metadata": {
    "slideshow": {
     "slide_type": "fragment"
    }
   },
   "source": [
    "* Asynchronous != concurrency"
   ]
  },
  {
   "cell_type": "markdown",
   "metadata": {
    "slideshow": {
     "slide_type": "fragment"
    }
   },
   "source": [
    "* Serial != blocking"
   ]
  },
  {
   "cell_type": "markdown",
   "metadata": {
    "slideshow": {
     "slide_type": "notes"
    }
   },
   "source": [
    "asyncio is pretty easy to use, but being easy to use doesn't automatically mean you're using it correctly. You can't just throw around `async` and `await` keywords around blocking code. It's a shift in a mental paradigm. Both with needing to think of what work can be farmed out and let it do its thing, what dependencies there are and where your code might still need to be sequential.\n",
    "\n",
    "But having steps within your code, having \"first A, then B, then C\" may seem like it's blocking when it's not. Sequential code can still be asynchronous. I might have to call customer service for something, and wait to be taken off hold to talk to them, but while I wait, I can put the phone on speaker and pet my super needy cat. I might be single-threaded as a person, but I can multi-task like CPUs."
   ]
  },
  {
   "cell_type": "markdown",
   "metadata": {
    "slideshow": {
     "slide_type": "slide"
    }
   },
   "source": [
    "# Graceful Shutdown\n",
    "<img src=\"images/mandrill_sleep.jpg\" style=\"height:400px\">"
   ]
  },
  {
   "cell_type": "markdown",
   "metadata": {
    "slideshow": {
     "slide_type": "notes"
    }
   },
   "source": [
    "Earlier, we added a try/except/finally around our main event loop code. Often though, you'll want your service to gracefully shutdown if it receives a signal of some sort, e.g. clean up open database connections, stop consuming messages, finish responding to current requests while not accepting new requests, etc.  So, if we happen to restart an instance of our _own_ service, we should clean up the \"mess\" we've made before exiting out."
   ]
  },
  {
   "cell_type": "code",
   "execution_count": null,
   "metadata": {
    "slideshow": {
     "slide_type": "subslide"
    }
   },
   "outputs": [],
   "source": [
    "if __name__ == '__main__':\n",
    "    queue = asyncio.Queue()\n",
    "    loop = asyncio.get_event_loop()\n",
    "\n",
    "    publisher_coro = handle_exception(publish(queue), loop)\n",
    "    consumer_coro = handle_exception(consume(queue), loop)\n",
    "\n",
    "    try:\n",
    "        loop.create_task(publisher_coro)\n",
    "        loop.create_task(consumer_coro)\n",
    "        loop.run_forever()\n",
    "    except KeyboardInterrupt:\n",
    "        logging.info('Interrupted')\n",
    "    finally:\n",
    "        logging.info('Cleaning up')\n",
    "        loop.stop()"
   ]
  },
  {
   "cell_type": "markdown",
   "metadata": {
    "slideshow": {
     "slide_type": "notes"
    }
   },
   "source": [
    "We've been catching the commonly-known `KeyboardInterrupt` exception like many other tutorials and libraries. "
   ]
  },
  {
   "cell_type": "markdown",
   "metadata": {
    "slideshow": {
     "slide_type": "subslide"
    }
   },
   "source": [
    "<h1><span style=\"font-size:50%;font-style:italic;color:gray;\">Graceful Shutdown:</span><br/>Common Signals</h1>"
   ]
  },
  {
   "cell_type": "markdown",
   "metadata": {
    "slideshow": {
     "slide_type": "subslide"
    }
   },
   "source": [
    "_via_ `man signal`\n",
    "\n",
    "* `SIGHUP` - Hangup detected on controlling terminal or death of controlling process\n",
    "* `SIGQUIT` - Quit from keyboard (via `^\\`)\n",
    "* `SIGTERM` - Termination signal\n",
    "* `SIGINT` - Interrupt program\n",
    "\n",
    "Should not be caught:\n",
    "* `SIGKILL` - kill program (the familiar `kill -9`)\n",
    "* `SIGSTOP` - stop process"
   ]
  },
  {
   "cell_type": "markdown",
   "metadata": {
    "slideshow": {
     "slide_type": "notes"
    }
   },
   "source": [
    "But there are many common signals that a service should expect and handled. A few typical ones are `SIGHUP`, `SIGQUIT`, and `SIGTERM`.\n",
    "\n",
    "There's also `SIGKILL` (i.e. the familiar `kill -9`) and `SIGSTOP`, although the standard is that they can't be caught, blocked, or ignored."
   ]
  },
  {
   "cell_type": "markdown",
   "metadata": {
    "slideshow": {
     "slide_type": "subslide"
    }
   },
   "source": [
    "```sh\n",
    "$ python mandrill/mayhem_13.py\n",
    "```"
   ]
  },
  {
   "cell_type": "markdown",
   "metadata": {
    "slideshow": {
     "slide_type": "fragment"
    }
   },
   "source": [
    "```sh\n",
    "$ pkill -TERM -f \"python mandrill/mayhem_13.py\"\n",
    "```"
   ]
  },
  {
   "cell_type": "markdown",
   "metadata": {
    "slideshow": {
     "slide_type": "fragment"
    }
   },
   "source": [
    "<pre><code>\n",
    "19:08:25,553 INFO: Pulled Message(inst_name='cattle-npww')\n",
    "19:08:25,554 INFO: Extended deadline 3s Message(inst_name='cattle-npww')\n",
    "19:08:25,655 INFO: Pulled Message(inst_name='cattle-rm7n')\n",
    "19:08:25,655 INFO: Extended deadline 3s Message(inst_name='cattle-rm7n')\n",
    "19:08:25,790 INFO: Saved Message(inst_name='cattle-rm7n') into database\n",
    "19:08:25,831 INFO: Saved Message(inst_name='cattle-npww') into database\n",
    "<span class=\"asyncio-hl\">[1]    78851 terminated  python mandrill/mayhem_13.py</span>\n",
    "</code></pre>"
   ]
  },
  {
   "cell_type": "markdown",
   "metadata": {
    "slideshow": {
     "slide_type": "notes"
    }
   },
   "source": [
    "We see that we don't reach the `finally` clause where we log that we're cleaning up and close the loop."
   ]
  },
  {
   "cell_type": "markdown",
   "metadata": {
    "slideshow": {
     "slide_type": "subslide"
    }
   },
   "source": [
    "<h1><span style=\"font-size:50%;font-style:italic;color:gray;\">Graceful Shutdown:</span><br/>Gotta catch 'em all</h1>"
   ]
  },
  {
   "cell_type": "code",
   "execution_count": null,
   "metadata": {
    "slideshow": {
     "slide_type": "fragment"
    }
   },
   "outputs": [],
   "source": [
    "if __name__ == '__main__':\n",
    "    queue = asyncio.Queue()\n",
    "    publisher_coro = handle_exception(publish(queue))\n",
    "    consumer_coro = handle_exception(consume(queue))\n",
    "\n",
    "    loop = asyncio.get_event_loop()  # <-- could happen here or earlier\n",
    "    try:\n",
    "        loop.create_task(publisher_coro)\n",
    "        loop.create_task(consumer_coro)\n",
    "        loop.run_forever()\n",
    "    except Exception:\n",
    "        logging.error('Caught exception')    # <-- could happen here \n",
    "    except KeyboardInterrupt:\n",
    "        logging.info('Process interrupted')  # <-- could happen here \n",
    "    finally:\n",
    "        logging.info('Cleaning up')          # <-- could happen here \n",
    "        loop.stop()                          # <-- could happen here "
   ]
  },
  {
   "cell_type": "markdown",
   "metadata": {
    "slideshow": {
     "slide_type": "notes"
    }
   },
   "source": [
    "It should also be pointed out that – even if we were to only ever expect a `KeyboardInterrupt` / `SIGINT` signal – it could happen outside the catching of the exception, potentially causing the service to end up in an incomplete or otherwise unknown state:"
   ]
  },
  {
   "cell_type": "markdown",
   "metadata": {
    "slideshow": {
     "slide_type": "subslide"
    }
   },
   "source": [
    "<h1><span style=\"font-size:50%;font-style:italic;color:gray;\">Graceful Shutdown:</span><br/>Using a signal handler</h1>"
   ]
  },
  {
   "cell_type": "markdown",
   "metadata": {
    "slideshow": {
     "slide_type": "notes"
    }
   },
   "source": [
    "So, instead of catching `KeyboardInterrupt`, let's attach a signal handler to the loop."
   ]
  },
  {
   "cell_type": "markdown",
   "metadata": {
    "slideshow": {
     "slide_type": "subslide"
    }
   },
   "source": [
    "#### Defining shutdown behavior\n",
    "\n",
    "```py3\n",
    "async def shutdown(signal, loop):\n",
    "    logging.info(f'Received exit signal {signal.name}...')\n",
    "    logging.info('Closing database connections')\n",
    "    logging.info('Nacking outstanding messages')\n",
    "    tasks = [t for t in asyncio.all_tasks() if t is not\n",
    "             asyncio.current_task()]\n",
    "    \n",
    "    [task.cancel() for task in tasks]\n",
    "\n",
    "    logging.info(f'Cancelling {len(tasks)} outstanding tasks')\n",
    "    await asyncio.gather(*tasks)\n",
    "    loop.stop()\n",
    "    logging.info('Shutdown complete.')\n",
    "```"
   ]
  },
  {
   "cell_type": "markdown",
   "metadata": {
    "slideshow": {
     "slide_type": "notes"
    }
   },
   "source": [
    "Here I'm just closing that simulated database connections, returning messages to pub/sub as not acknowledged (so they can be redelivered and not dropped), and finally cancelling the tasks. We don't necessarily need to cancel pending tasks; we could just collect and allow them to finish. We may also want to take this opportunity to flush any collected metrics so they're not lost."
   ]
  },
  {
   "cell_type": "code",
   "execution_count": null,
   "metadata": {
    "slideshow": {
     "slide_type": "subslide"
    }
   },
   "outputs": [],
   "source": [
    "if __name__ == '__main__':\n",
    "    loop = asyncio.get_event_loop()\n",
    "\n",
    "    # May want to catch other signals too\n",
    "    signals = (signal.SIGHUP, signal.SIGTERM, signal.SIGINT)\n",
    "    for s in signals:\n",
    "        loop.add_signal_handler(\n",
    "            s, lambda s=s: asyncio.create_task(shutdown(s, loop)))\n",
    "\n",
    "    queue = asyncio.Queue()\n",
    "    publisher_coro = handle_exception(publish(queue), loop)\n",
    "    consumer_coro = handle_exception(consume(queue), loop)\n",
    "\n",
    "    try:\n",
    "        loop.create_task(publisher_coro)\n",
    "        loop.create_task(consumer_coro)\n",
    "        loop.run_forever()\n",
    "    finally:\n",
    "        logging.info('Cleaning up')\n",
    "        loop.stop()"
   ]
  },
  {
   "cell_type": "markdown",
   "metadata": {
    "slideshow": {
     "slide_type": "notes"
    }
   },
   "source": [
    "Let's hook this up to the main event loop now.\n",
    "\n",
    "I also removed the `KeyboardInterrupt` catch since that's now taken care of within the signal handling."
   ]
  },
  {
   "cell_type": "markdown",
   "metadata": {
    "slideshow": {
     "slide_type": "subslide"
    }
   },
   "source": [
    "```sh\n",
    "$ python mandrill/mayhem_14.py\n",
    "```"
   ]
  },
  {
   "cell_type": "markdown",
   "metadata": {
    "slideshow": {
     "slide_type": "fragment"
    }
   },
   "source": [
    "```sh\n",
    "# or -HUP or -INT\n",
    "$ pkill -TERM -f \"python mandrill/mayhem_14.py\"\n",
    "```"
   ]
  },
  {
   "cell_type": "markdown",
   "metadata": {
    "slideshow": {
     "slide_type": "fragment"
    }
   },
   "source": [
    "<pre><code>\n",
    "19:11:25,321 INFO: Pulled Message(inst_name='cattle-lrnm')\n",
    "19:11:25,321 INFO: Extended deadline 3s Message(inst_name='cattle-lrnm')\n",
    "19:11:25,700 INFO: Pulled Message(inst_name='cattle-m0f6')\n",
    "19:11:25,700 INFO: Extended deadline 3s Message(inst_name='cattle-m0f6')\n",
    "19:11:25,740 INFO: Saved Message(inst_name='cattle-m0f6') into database\n",
    "19:11:25,840 INFO: Saved Message(inst_name='cattle-lrnm') into database\n",
    "19:11:26,143 INFO: Received exit signal SIGTERM...\n",
    "19:11:26,143 INFO: Closing database connections\n",
    "19:11:26,144 INFO: Cancelling outstanding tasks\n",
    "<span class=\"asyncio-hl\">19:11:26,144 ERROR: Caught exception</span>\n",
    "<span class=\"asyncio-hl\">19:11:26,144 ERROR: Caught exception</span>\n",
    "19:11:26,144 INFO: Cleaning up\n",
    "</code></pre>"
   ]
  },
  {
   "cell_type": "markdown",
   "metadata": {
    "slideshow": {
     "slide_type": "notes"
    }
   },
   "source": [
    "Let's run this again.\n",
    "\n",
    "It looks like we hit `\"Caught exception\"` twice. This is because awaiting on cancelled tasks will raise `asyncio.CancelledError`, which is expected. Let's add that to `handle_exception` as well:"
   ]
  },
  {
   "cell_type": "code",
   "execution_count": null,
   "metadata": {
    "slideshow": {
     "slide_type": "subslide"
    }
   },
   "outputs": [],
   "source": [
    "async def handle_exception(fn, loop):\n",
    "    try:\n",
    "        await fn()\n",
    "    except asyncio.CancelledError:\n",
    "        logging.info('Coroutine cancelled')\n",
    "    except Exception :\n",
    "        logging.error('Caught exception')\n",
    "    finally:\n",
    "        loop.stop()"
   ]
  },
  {
   "cell_type": "markdown",
   "metadata": {
    "slideshow": {
     "slide_type": "subslide"
    }
   },
   "source": [
    "```sh\n",
    "$ python mandrill/mayhem_14.py\n",
    "```\n",
    "\n",
    "```sh\n",
    "$ pkill -INT -f \"python mandrill/mayhem_14.py\"\n",
    "```\n",
    "\n",
    "<pre><code>\n",
    "19:22:10,47 INFO: Pulled Message(inst_name='cattle-1zsx')\n",
    "19:22:10,47 INFO: Extended deadline 3s Message(inst_name='cattle-1zsx')\n",
    "^C19:22:10,541 INFO: Received exit signal SIGINT...\n",
    "19:22:10,541 INFO: Closing database connections\n",
    "19:22:10,541 INFO: Cancelling outstanding tasks\n",
    "<span class=\"asyncio-hl\">19:22:10,541 INFO: Coroutine cancelled</span>\n",
    "<span class=\"asyncio-hl\">19:22:10,541 INFO: Coroutine cancelled</span>\n",
    "19:22:10,541 INFO: Cleaning up\n",
    "</code></pre>"
   ]
  },
  {
   "cell_type": "markdown",
   "metadata": {
    "slideshow": {
     "slide_type": "notes"
    }
   },
   "source": [
    "So now we see our coroutines are cancelled and not some random exception."
   ]
  },
  {
   "cell_type": "markdown",
   "metadata": {
    "slideshow": {
     "slide_type": "subslide"
    }
   },
   "source": [
    "<h1><span style=\"font-size:50%;font-style:italic;color:gray;\">Graceful Shutdown:</span><br/>Which signals to care about</h1>"
   ]
  },
  {
   "cell_type": "markdown",
   "metadata": {
    "slideshow": {
     "slide_type": "subslide"
    }
   },
   "source": [
    "<table class='table table-striped'> <thead> <tr> <th></th> <th>Hard Exit</th> <th>Graceful</th> <th>Reload/Restart</th> </tr> </thead> <tbody> <tr> <th scope='row'>nginx</th> <td><code>TERM</code>, <code>INT</code></td> <td><code>QUIT</code></td> <td><code>HUP</code></td> </tr> <tr> <th scope='row'>Apache</th> <td><code>TERM</code></td> <td><code>WINCH</code></td> <td><code>HUP</code></td> </tr> <tr> <th scope='row'>uWSGI</th> <td><code>INT</code>, <code>QUIT</code></td> <td></td> <td><code>HUP</code>, <code>TERM</code></td> </tr> <tr><th scope='row'>Gunicorn</th> <td><code>INT</code>, <code>QUIT</code></td> <td><code>TERM</code></td> <td><code>HUP</code></td> </tr> <tr><th scope='row'>Docker</th> <td><code>KILL</code></td> <td><code>TERM</code></td> <td></td> </tr> </tbody> </table>"
   ]
  },
  {
   "cell_type": "markdown",
   "metadata": {
    "slideshow": {
     "slide_type": "notes"
    }
   },
   "source": [
    "Apparently there's no standard. Basically, you should be aware of how you're running your service, and handle accordingly. "
   ]
  },
  {
   "cell_type": "markdown",
   "metadata": {
    "slideshow": {
     "slide_type": "skip"
    }
   },
   "source": [
    "If you run your services within a Docker container, then you might want to consider including the handling of `SIGTERM` since that is what's sent during a `docker stop`. `docker kill` sends – you guessed it – a `SIGKILL` to the main process inside the container.\n",
    "\n",
    "If the service is sitting behind nginx, then consider handling [`SIGQUIT` to piggy-back](http://nginx.org/en/docs/control.html) for a graceful shutdown, and `SIGTERM` and `SIGINT` for an immediate exit. `SIGHUP` will actually reload configuration.\n",
    "\n",
    "For Apache, you'd use [`SIGWINCH`](http://httpd.apache.org/docs/2.2/stopping.html#gracefulstop) for a graceful shutdown, `SIGTERM` for an immediate exit, and `SIGHUP` for restarting. \n",
    "\n",
    "When using [`uWSGI`](https://uwsgi-docs.readthedocs.io/en/latest/Management.html#signals-for-controlling-uwsgi), know that `SIGHUP` and `SIGTERM` actually reloads the workers and master process (graceful and immediate, respectively). To actually stop the uWSGI stack, you'll need to use `SIGINT` or `SIGQUIT`, although I don't see a way to do it gracefully.\n",
    "\n",
    "Unlike `uWSGI`, Gunicorn allows for a graceful shutdown with `SIGTERM`. Use `SIGQUIT` and `SIGINT` for an immediate exit, and `SIGHUP` for reloading."
   ]
  },
  {
   "cell_type": "markdown",
   "metadata": {
    "slideshow": {
     "slide_type": "skip"
    }
   },
   "source": [
    "```sh\n",
    "$ docker kill --signal SIGTERM <container>\n",
    "```"
   ]
  },
  {
   "cell_type": "markdown",
   "metadata": {
    "slideshow": {
     "slide_type": "notes"
    }
   },
   "source": [
    "Now if you're running these within a Docker container alongside your Python app, you'll have to [provide the desired signal with the `kill` command](https://docs.docker.com/engine/reference/commandline/kill/), e.g. `docker kill --signal SIGTERM <container>`. "
   ]
  },
  {
   "cell_type": "markdown",
   "metadata": {
    "slideshow": {
     "slide_type": "subslide"
    }
   },
   "source": [
    "<h1><span style=\"font-size:50%;font-style:italic;color:gray;\">Graceful Shutdown:</span><br/>Heads up: <code>asyncio.shield</code> isn't graceful</h1>"
   ]
  },
  {
   "cell_type": "markdown",
   "metadata": {
    "slideshow": {
     "slide_type": "notes"
    }
   },
   "source": [
    "Another misleading API in `asyncio` is [`asyncio.shield`](https://docs.python.org/3/library/asyncio-task.html#asyncio.shield). The docs say it's a means to shield a future from cancellation. But if you have a coroutine that must not be cancelled during shutdown, `asyncio.shield` will not help you.\n",
    "\n",
    "This is because the task that `asyncio.shield` creates gets included in `asyncio.all_tasks`, and therefore receives the cancellation signal like the rest of the tasks."
   ]
  },
  {
   "cell_type": "code",
   "execution_count": null,
   "metadata": {
    "slideshow": {
     "slide_type": "subslide"
    }
   },
   "outputs": [],
   "source": [
    "async def cant_stop_me():\n",
    "    logging.info('Hold on...')\n",
    "    await asyncio.sleep(60)\n",
    "    logging.info('Done!')"
   ]
  },
  {
   "cell_type": "markdown",
   "metadata": {
    "slideshow": {
     "slide_type": "notes"
    }
   },
   "source": [
    "To help illustrate, let's have a simple async function with a long sleep that we want to shield"
   ]
  },
  {
   "cell_type": "code",
   "execution_count": null,
   "metadata": {
    "slideshow": {
     "slide_type": "fragment"
    }
   },
   "outputs": [],
   "source": [
    "if __name__ == '__main__':\n",
    "    loop = asyncio.get_event_loop()\n",
    "\n",
    "    signals = (signal.SIGHUP, signal.SIGTERM, signal.SIGINT)\n",
    "    for s in signals:\n",
    "        loop.add_signal_handler(\n",
    "            s, lambda s=s: asyncio.create_task(shutdown(s, loop)))\n",
    "\n",
    "    shielded_coro = asyncio.shield(cant_stop_me())\n",
    "\n",
    "    try:\n",
    "        loop.run_until_complete(shielded_coro)\n",
    "    finally:\n",
    "        logging.info('Cleaning up')\n",
    "        loop.stop()"
   ]
  },
  {
   "cell_type": "markdown",
   "metadata": {
    "slideshow": {
     "slide_type": "subslide"
    }
   },
   "source": [
    "<pre><code>\n",
    "13:24:20,105 INFO: Hold on...\n",
    "^C13:24:21,156 INFO: Received exit signal SIGINT...\n",
    "13:24:21,156 INFO: Cancelling 2 outstanding tasks\n",
    "<span class=\"asyncio-hl\">13:24:21,156 INFO: Coroutine cancelled</span>\n",
    "13:24:21,157 INFO: Cleaning up\n",
    "Traceback (most recent call last):\n",
    "  File \"examples/shield_test.py\", line 62, in <module>\n",
    "    loop.run_until_complete(shielded_coro)\n",
    "  File \"/Users/lynn/.pyenv/versions/3.7.0/lib/python3.7/asyncio/base_events.py\", line 568, in run_until_complete\n",
    "    return future.result()\n",
    "concurrent.futures._base.CancelledError\n",
    "</code></pre>"
   ]
  },
  {
   "cell_type": "markdown",
   "metadata": {
    "slideshow": {
     "slide_type": "notes"
    }
   },
   "source": [
    "We see that we don't get to the \"Done\" log line, that it's immediately cancelled."
   ]
  },
  {
   "cell_type": "markdown",
   "metadata": {
    "slideshow": {
     "slide_type": "subslide"
    }
   },
   "source": [
    "<h1><span style=\"font-size:50%;font-style:italic;color:gray;\">TL;DR: Graceful Shutdown:</span></h1>"
   ]
  },
  {
   "cell_type": "markdown",
   "metadata": {
    "slideshow": {
     "slide_type": "fragment"
    }
   },
   "source": [
    "* `try`/`except`/`finally` isn't enough"
   ]
  },
  {
   "cell_type": "markdown",
   "metadata": {
    "slideshow": {
     "slide_type": "fragment"
    }
   },
   "source": [
    "* Use signal handlers"
   ]
  },
  {
   "cell_type": "markdown",
   "metadata": {
    "slideshow": {
     "slide_type": "fragment"
    }
   },
   "source": [
    "* Listen for the appropriate signals"
   ]
  },
  {
   "cell_type": "markdown",
   "metadata": {
    "slideshow": {
     "slide_type": "notes"
    }
   },
   "source": [
    "We don't have any nursuries in `asyncio` core to clean ourselves up; it's up to us to be responsible and close up the connections and files we opened, respond to outstanding requests, basically leave things how we found them. \n",
    "\n",
    "Doing our cleanup in a `finally` clause isn't enough, though, since a signal could be sent outside of the try/except clause.\n",
    "\n",
    "So as we construct the loop, we should tell how it should be deconstructed as soon as possible in the program. This ensures that \"all our bases are covered\", that we're not leaving artifacts anywhere.\n",
    "\n",
    "And finally, we also need to be aware of when our program should shutdown, which is closely tied to how we run our program. If it's a manually ran script, then `SIGINT` is fine. But if it's within a daemonized Docker container, then `SIGTERM` is more appropriate."
   ]
  },
  {
   "cell_type": "markdown",
   "metadata": {
    "slideshow": {
     "slide_type": "slide"
    }
   },
   "source": [
    "<h1>Exception Handling</h1>\n",
    "<img src=\"images/surprised_mandrill.jpg\" style=\"height:400px\">"
   ]
  },
  {
   "cell_type": "markdown",
   "metadata": {
    "slideshow": {
     "slide_type": "notes"
    }
   },
   "source": [
    "You may have noticed that, while we're catching exceptions on the top level, we're not paying any mind to exceptions that could be raised from within coroutines like `restart_host`, `save`, etc. "
   ]
  },
  {
   "cell_type": "code",
   "execution_count": null,
   "metadata": {
    "slideshow": {
     "slide_type": "subslide"
    }
   },
   "outputs": [],
   "source": [
    "async def restart_host(msg):\n",
    "    # faked error\n",
    "    rand_int = random.randrange(1, 3)\n",
    "    if rand_int == 3:\n",
    "        raise Exception('Could not restart host')\n",
    "    # unhelpful simulation of i/o work\n",
    "    await asyncio.sleep(random.randrange(1,3))\n",
    "    logging.info(f'Restarted {msg.hostname}')"
   ]
  },
  {
   "cell_type": "markdown",
   "metadata": {
    "slideshow": {
     "slide_type": "notes"
    }
   },
   "source": [
    "To show you what I mean, let's fake an error where we can't restart a host.\n",
    "\n",
    "Running it, we see:"
   ]
  },
  {
   "cell_type": "markdown",
   "metadata": {
    "slideshow": {
     "slide_type": "subslide"
    }
   },
   "source": [
    "```sh\n",
    "$ python mandrill/mayhem_15.py\n",
    "```\n",
    "<pre><code>\n",
    "08:55:58,122 INFO: Pulled Message(inst_name='cattle-tx09')\n",
    "08:55:58,122 INFO: Extended deadline 3s Message(inst_name='cattle-tx09')\n",
    "08:55:58,123 ERROR: Could not restart cattle-tx09.example.net\n",
    "<span class=\"asyncio-hl\">08:55:58,123 ERROR: Task exception was never retrieved</span>\n",
    "future: <Task finished coro=<handle_message() done, defined at mandrill/mayhem_15.py:72> exception=Exception('Could not restart cattle-tx09.example.net')>\n",
    "Traceback (most recent call last):\n",
    "  File \"mandrill/mayhem_15.py\", line 82, in handle_message\n",
    "    await asyncio.gather(save_coro, restart_coro)\n",
    "  File \"mandrill/mayhem_15.py\", line 49, in restart_host\n",
    "    raise Exception(f'Could not restart {msg.hostname}')\n",
    "Exception: Could not restart cattle-tx09.example.net\n",
    "08:55:58,904 INFO: Saved Message(inst_name='cattle-tx09') into database\n",
    "08:56:00,127 INFO: Extended deadline 3s Message(inst_name='cattle-tx09')\n",
    "</code></pre>"
   ]
  },
  {
   "cell_type": "markdown",
   "metadata": {
    "slideshow": {
     "slide_type": "notes"
    }
   },
   "source": [
    "We see that `cattle-tx09.example.net` could not be restarted. While the service doesn't crash and it did save the message in the database, it did not clean up and `ack` the message. The `extend` on the message deadline will also keep spinning, so we've essentially deadlocked on the message."
   ]
  },
  {
   "cell_type": "code",
   "execution_count": null,
   "metadata": {
    "slideshow": {
     "slide_type": "subslide"
    }
   },
   "outputs": [],
   "source": [
    "async def handle_message(msg):\n",
    "    event = asyncio.Event()\n",
    "\n",
    "    asyncio.create_task(extend(msg, event))\n",
    "    asyncio.create_task(cleanup(msg, event))\n",
    "\n",
    "    await asyncio.gather(\n",
    "        save(msg), restart_host(msg), return_exceptions=True)\n",
    "    event.set()"
   ]
  },
  {
   "cell_type": "markdown",
   "metadata": {
    "slideshow": {
     "slide_type": "notes"
    }
   },
   "source": [
    "The simple thing to do is add `return_exceptions=True` to `asyncio.gather`, so rather than completely dropping an exception, it's returned along with the successful results:"
   ]
  },
  {
   "cell_type": "markdown",
   "metadata": {
    "slideshow": {
     "slide_type": "subslide"
    }
   },
   "source": [
    "```sh\n",
    "$ python mandrill/mayhem_15.py\n",
    "```\n",
    "```\n",
    "09:08:50,658 INFO: Pulled Message(inst_name='cattle-4f52')\n",
    "09:08:50,659 INFO: Extended deadline 3s Message(inst_name='cattle-4f52')\n",
    "09:08:51,025 INFO: Pulled Message(inst_name='cattle-orj0')\n",
    "09:08:51,025 INFO: Extended deadline 3s Message(inst_name='cattle-orj0')\n",
    "09:08:51,497 INFO: Pulled Message(inst_name='cattle-f4nw')\n",
    "09:08:51,497 INFO: Extended deadline 3s Message(inst_name='cattle-f4nw')\n",
    "09:08:51,626 INFO: Saved Message(inst_name='cattle-4f52') into database\n",
    "09:08:51,706 INFO: Saved Message(inst_name='cattle-orj0') into database\n",
    "09:08:51,723 INFO: Done. Acked Message(inst_name='cattle-4f52')\n",
    "09:08:52,009 INFO: Saved Message(inst_name='cattle-f4nw') into database\n",
    "09:08:52,409 INFO: Pulled Message(inst_name='cattle-dft2')\n",
    "09:08:52,410 INFO: Extended deadline 3s Message(inst_name='cattle-dft2')\n",
    "09:08:52,444 INFO: Saved Message(inst_name='cattle-dft2') into database\n",
    "09:08:52,929 INFO: Done. Acked Message(inst_name='cattle-dft2')\n",
    "09:08:52,930 INFO: Pulled Message(inst_name='cattle-ft4h')\n",
    "09:08:52,930 INFO: Extended deadline 3s Message(inst_name='cattle-ft4h')\n",
    "09:08:53,029 INFO: Extended deadline 3s Message(inst_name='cattle-orj0')\n",
    "09:08:53,30 INFO: Restarted cattle-orj0.example.net\n",
    "```"
   ]
  },
  {
   "cell_type": "code",
   "execution_count": null,
   "metadata": {
    "slideshow": {
     "slide_type": "subslide"
    }
   },
   "outputs": [],
   "source": [
    "def handle_results(results):\n",
    "    for result in results:\n",
    "        if isinstance(result, Exception):\n",
    "            logging.error(f'Caught exception: {result}')"
   ]
  },
  {
   "cell_type": "code",
   "execution_count": null,
   "metadata": {
    "slideshow": {
     "slide_type": "fragment"
    }
   },
   "outputs": [],
   "source": [
    "async def handle_message(msg):\n",
    "    event = asyncio.Event()\n",
    "    asyncio.create_task(extend(msg, event))\n",
    "    asyncio.create_task(cleanup(msg, event))\n",
    "\n",
    "    results = await asyncio.gather(\n",
    "        save(msg), restart_host(msg), return_exceptions=True\n",
    "    )\n",
    "    handle_results(results)\n",
    "    event.set()"
   ]
  },
  {
   "cell_type": "markdown",
   "metadata": {
    "slideshow": {
     "slide_type": "notes"
    }
   },
   "source": [
    "We _could_ add a callback via `add_done_callback` to the `asyncio.gather` future, but as I said, I'm allergic. We can just process the results afterwards:"
   ]
  },
  {
   "cell_type": "markdown",
   "metadata": {
    "slideshow": {
     "slide_type": "subslide"
    }
   },
   "source": [
    "```sh\n",
    "$ python mandrill/mayhem_15.py\n",
    "```\n",
    "<pre><code>\n",
    "09:27:48,143 INFO: Pulled Message(inst_name='cattle-gas8')\n",
    "09:27:48,144 INFO: Extended deadline 3s Message(inst_name='cattle-gas8')\n",
    "09:27:48,644 INFO: Pulled Message(inst_name='cattle-arpg')\n",
    "09:27:48,645 INFO: Extended deadline 3s Message(inst_name='cattle-arpg')\n",
    "09:27:48,880 INFO: Saved Message(inst_name='cattle-gas8') into database\n",
    "<span class=\"asyncio-hl\">09:27:48,880 ERROR: Caught exception: Could not restart cattle-gas8.example.net</span>\n",
    "09:27:49,385 INFO: Pulled Message(inst_name='cattle-4nl3')\n",
    "09:27:49,385 INFO: Extended deadline 3s Message(inst_name='cattle-4nl3')\n",
    "09:27:49,503 INFO: Saved Message(inst_name='cattle-arpg') into database\n",
    "<span class=\"asyncio-hl\">09:27:49,504 ERROR: Caught exception: Could not restart cattle-arpg.example.net</span>\n",
    "09:27:49,656 INFO: Pulled Message(inst_name='cattle-4713')\n",
    "09:27:49,656 INFO: Extended deadline 3s Message(inst_name='cattle-4713')\n",
    "09:27:49,734 INFO: Saved Message(inst_name='cattle-4nl3') into database\n",
    "<span class=\"asyncio-hl\">09:27:49,734 ERROR: Caught exception: Could not restart cattle-4nl3.example.net</span>\n",
    "09:27:49,747 INFO: Done. Acked Message(inst_name='cattle-gas8')\n",
    "</code></pre>"
   ]
  },
  {
   "cell_type": "markdown",
   "metadata": {
    "slideshow": {
     "slide_type": "subslide"
    }
   },
   "source": [
    "<h1><span style=\"font-size:50%;font-style:italic;color:gray;\">TL;DR: Exception Handling</span></h1>"
   ]
  },
  {
   "cell_type": "markdown",
   "metadata": {
    "slideshow": {
     "slide_type": "fragment"
    }
   },
   "source": [
    "* Exceptions – handled or not – do not crash the program"
   ]
  },
  {
   "cell_type": "markdown",
   "metadata": {
    "slideshow": {
     "slide_type": "fragment"
    }
   },
   "source": [
    "* `asyncio.gather` will swallow exceptions by default"
   ]
  },
  {
   "cell_type": "markdown",
   "metadata": {
    "slideshow": {
     "slide_type": "notes"
    }
   },
   "source": [
    "Exceptions will not crash the system - unlike non-asyncio programs. and they might go unnoticed. So we need to account for that.\n",
    "\n",
    "I personally like using `asyncio.gather` because the order of the returned results are deterministic, but it's easy to get tripped up with it. By default, it will swallow exceptions but happily continue working on the other tasks that were given. If an exception is never returned, weird behavior can happen, like spinning around an event."
   ]
  },
  {
   "cell_type": "markdown",
   "metadata": {
    "slideshow": {
     "slide_type": "slide"
    }
   },
   "source": [
    "# Making synchronous code `asyncio`-friendly\n",
    "<img src=\"images/mandrill_bored.jpg\" style=\"height:400px\">"
   ]
  },
  {
   "cell_type": "markdown",
   "metadata": {
    "slideshow": {
     "slide_type": "notes"
    }
   },
   "source": [
    "I'm sure that as folks have started to use `asyncio`, they've realized that `async`/`await` starts infecting everything around the codebase; everything needs to be async. This isn't necessarily a bad thing; it just forces a shift in perspective."
   ]
  },
  {
   "cell_type": "code",
   "execution_count": null,
   "metadata": {
    "slideshow": {
     "slide_type": "skip"
    }
   },
   "outputs": [],
   "source": [
    "def save_sync(msg):\n",
    "    # unhelpful simulation of blocking i/o work\n",
    "    time.sleep(random.random())\n",
    "    logging.info(f'[blocking] Saved {msg} into database')"
   ]
  },
  {
   "cell_type": "code",
   "execution_count": null,
   "metadata": {
    "slideshow": {
     "slide_type": "skip"
    }
   },
   "outputs": [],
   "source": [
    "async def handle_message(msg, executor, loop):\n",
    "    event = asyncio.Event()\n",
    "    save_coro = loop.run_in_executor(executor, save_sync, msg)\n",
    "\n",
    "    asyncio.create_task(extend(msg, event))\n",
    "    asyncio.create_task(cleanup(msg, event))\n",
    "\n",
    "    results = await asyncio.gather(\n",
    "        save_coro, restart_host(msg), return_exceptions=True\n",
    "    )\n",
    "    handle_results(results)\n",
    "    event.set()"
   ]
  },
  {
   "cell_type": "code",
   "execution_count": null,
   "metadata": {
    "slideshow": {
     "slide_type": "skip"
    }
   },
   "outputs": [],
   "source": [
    "async def consume(queue):\n",
    "    executor = concurrent.futures.ThreadPoolExecutor(max_workers=5)\n",
    "    loop = asyncio.get_running_loop()\n",
    "    while True:\n",
    "        msg = await queue.get()\n",
    "        logging.info(f'Pulled {msg}')\n",
    "        asyncio.create_task(handle_message(msg, executor, loop))"
   ]
  },
  {
   "cell_type": "markdown",
   "metadata": {
    "slideshow": {
     "slide_type": "notes"
    }
   },
   "source": [
    "But if you're very lucky, you'll need to use [third-party code](https://googlecloudplatform.github.io/google-cloud-python/latest/pubsub/subscriber/index.html) that blocks. To simulate this, I'm making use of the synchronous publish & consume code from earlier."
   ]
  },
  {
   "cell_type": "code",
   "execution_count": null,
   "metadata": {
    "slideshow": {
     "slide_type": "subslide"
    }
   },
   "outputs": [],
   "source": [
    "async def consume(executor, queue, loop):\n",
    "    while True:\n",
    "        msg = await loop.run_in_executor(executor, consume_sync, queue)\n",
    "        if not msg:  # could be None\n",
    "            continue\n",
    "        asyncio.create_task(handle_message(msg))"
   ]
  },
  {
   "cell_type": "code",
   "execution_count": null,
   "metadata": {
    "slideshow": {
     "slide_type": "fragment"
    }
   },
   "outputs": [],
   "source": [
    "if __name__ == '__main__':\n",
    "    # <--snip-->\n",
    "    executor = concurrent.futures.ThreadPoolExecutor(max_workers=5)\n",
    "    consumer_coro = consume(executor, queue, loop)\n",
    "    # <--snip-->"
   ]
  },
  {
   "cell_type": "markdown",
   "metadata": {
    "slideshow": {
     "slide_type": "notes"
    }
   },
   "source": [
    "So for our code to work with this, we need to rework our async consumer. Not much needed actually. Here I'm still making use of our own asynchronous `consume` coroutine to call the non-async consumer.\n",
    "\n",
    "Aside: There's a handy little package called [asyncio-extras](https://asyncio-extras.readthedocs.io/en/latest/) which provides a decorator for synchronous functions/methods. You can avoid the boilerplate of setting up an executor and just `await` the decorated function."
   ]
  },
  {
   "cell_type": "markdown",
   "metadata": {
    "slideshow": {
     "slide_type": "subslide"
    }
   },
   "source": [
    "## Making threaded code `asyncio`-<strike>friendly</strike> tolerable\n",
    "<img src=\"images/surprised_mandrill_2.jpg\" style=\"height:400px\">"
   ]
  },
  {
   "cell_type": "markdown",
   "metadata": {
    "slideshow": {
     "slide_type": "notes"
    }
   },
   "source": [
    "But sometimes, third-party code throws a wrench at you...\n",
    "\n",
    "If you're lucky, you'll be faced with a third-party library that is multi-threaded _and_ blocking. For example, Google Pub/Sub's Python library makes use of gPRC under the hood via threading, but [is also blocks](https://googlecloudplatform.github.io/google-cloud-python/latest/pubsub/subscriber/index.html#subscription-callbacks) when we're opening up a subscription. The library also requires a non-async callback (:grimace:) for when a message is received. "
   ]
  },
  {
   "cell_type": "code",
   "execution_count": null,
   "metadata": {
    "slideshow": {
     "slide_type": "subslide"
    }
   },
   "outputs": [],
   "source": [
    "def callback(msg):\n",
    "    msg.ack()\n",
    "    data = json.loads(msg.data.decode('utf-8'))\n",
    "    logging.info(f'Consumed {data[\"msg_id\"]}')\n",
    "\n",
    "def consume_sync():\n",
    "    client = get_subscriber_client()  # helper func\n",
    "    future = client.subscribe(SUBSCRIPTION, callback)\n",
    "\n",
    "    try:\n",
    "        future.result()  # blocking\n",
    "    except Exception as e:\n",
    "        logging.error(f'Caught exception: {e}')"
   ]
  },
  {
   "cell_type": "markdown",
   "metadata": {
    "slideshow": {
     "slide_type": "notes"
    }
   },
   "source": [
    "In typical Google fashion, they'll stuff some uber-cool technology in a difficult to work-with library. This future that's returned, it will make use of gRPC for bidirectional communication and remove our need to periodically pull for messages as well as manage message deadlines.\n",
    "\n",
    "To illustrate, here's how we can use `loop.run_in_executor` for this blocking code"
   ]
  },
  {
   "cell_type": "code",
   "execution_count": null,
   "metadata": {
    "slideshow": {
     "slide_type": "subslide"
    }
   },
   "outputs": [],
   "source": [
    "async def run_pubsub():\n",
    "    loop = asyncio.get_running_loop()\n",
    "    executor = concurrent.futures.ThreadPoolExecutor(max_workers=5)\n",
    "\n",
    "    consume_coro = loop.run_in_executor(executor, consume_sync)\n",
    "\n",
    "    asyncio.ensure_future(consume_coro)\n",
    "    loop.create_task(publish(executor, loop))"
   ]
  },
  {
   "cell_type": "markdown",
   "metadata": {
    "slideshow": {
     "slide_type": "notes"
    }
   },
   "source": [
    "I've made a helper coroutine function to setup an executor, use it to kick off the synchronous consumer, and pass it off to my async publisher to use for its non-async work."
   ]
  },
  {
   "cell_type": "code",
   "execution_count": null,
   "metadata": {
    "slideshow": {
     "slide_type": "subslide"
    }
   },
   "outputs": [],
   "source": [
    "async def run_something_else():\n",
    "    while True:\n",
    "        logging.info('Running something else')\n",
    "        await asyncio.sleep(random.random())\n",
    "\n",
    "async def run():\n",
    "    coros = [run_pubsub(), run_something_else()]\n",
    "    await asyncio.gather(*coros)"
   ]
  },
  {
   "cell_type": "markdown",
   "metadata": {
    "slideshow": {
     "slide_type": "notes"
    }
   },
   "source": [
    "I'd like to also prove that this is now non-blocking, so let's add a dummy coroutine function to be ran alongside `run_pubsub`. We'll add two coroutine function, and update the `__main__` section to just run the `run` coroutine function."
   ]
  },
  {
   "cell_type": "markdown",
   "metadata": {
    "slideshow": {
     "slide_type": "subslide"
    }
   },
   "source": [
    "```sh\n",
    "$ python examples/mandrill/mayhem_19.py\n",
    "```\n",
    "```\n",
    "17:24:09,613 INFO: Running something else\n",
    "17:24:09,716 INFO: Consumed 6tal\n",
    "17:24:09,716 INFO: Consumed k5yg\n",
    "17:24:09,716 INFO: Consumed 0m4d\n",
    "17:24:09,717 INFO: Running something else\n",
    "17:24:09,820 INFO: Running something else\n",
    "17:24:09,822 INFO: Consumed qiwg\n",
    "17:24:09,822 INFO: Consumed pha7\n",
    "17:24:09,822 INFO: Consumed ec9c\n",
    "17:24:09,924 INFO: Running something else\n",
    "17:24:09,929 INFO: Consumed 8mgt\n",
    "17:24:09,929 INFO: Consumed x6u3\n",
    "17:24:09,929 INFO: Consumed 1kue\n",
    "17:24:09,929 INFO: Consumed a1og\n",
    "17:24:10,26 INFO: Running something else\n",
    "17:24:10,31 INFO: Consumed 204t\n",
    "17:24:10,31 INFO: Consumed vmcg\n",
    "17:24:10,31 INFO: Consumed f5jj\n",
    "^C17:24:10,91 INFO: Received exit signal SIGINT...\n",
    "17:24:10,91 INFO: Shutdown complete.\n",
    "17:24:10,91 INFO: Cleaning up\n",
    "```"
   ]
  },
  {
   "cell_type": "markdown",
   "metadata": {
    "slideshow": {
     "slide_type": "notes"
    }
   },
   "source": [
    "Now running it will show...\n",
    "\n",
    "As I forewarned: although it will handle the message leasing for us, there are threads going on in the background. But, it introduces at least 15 threads... "
   ]
  },
  {
   "cell_type": "code",
   "execution_count": null,
   "metadata": {
    "slideshow": {
     "slide_type": "subslide"
    }
   },
   "outputs": [],
   "source": [
    "async def watch_threads():\n",
    "    while True:\n",
    "        threads = threading.enumerate()\n",
    "        logging.info(f'Current thread count: {len(threads)}')\n",
    "        logging.info('Current threads:')\n",
    "        for thread in threads:\n",
    "            logging.info(f'-- {thread.name}')\n",
    "        logging.info('Sleeping for 5 seconds...')\n",
    "        await asyncio.sleep(5)"
   ]
  },
  {
   "cell_type": "markdown",
   "metadata": {
    "slideshow": {
     "slide_type": "notes"
    }
   },
   "source": [
    "I'm going to reuse that little `run_something_else` coroutine to actually get some periodic stats on threads.\n",
    "\n",
    "I'm also going to use a prefix so I can easily tell which threads I created versus others."
   ]
  },
  {
   "cell_type": "code",
   "execution_count": null,
   "metadata": {
    "slideshow": {
     "slide_type": "fragment"
    }
   },
   "outputs": [],
   "source": [
    "async def run_pubsub():\n",
    "    loop = asyncio.get_running_loop()\n",
    "    executor = concurrent.futures.ThreadPoolExecutor(\n",
    "        max_workers=5, thread_name_prefix='Mandrill')\n",
    "    # <--snip-->"
   ]
  },
  {
   "cell_type": "markdown",
   "metadata": {
    "slideshow": {
     "slide_type": "subslide"
    }
   },
   "source": [
    "<pre><code>\n",
    "15:35:39,693 INFO: Current thread count: 2\n",
    "15:35:39,693 INFO: Current threads:\n",
    "15:35:39,693 INFO: -- MainThread\n",
    "15:35:39,693 INFO: -- Mandrill_0\n",
    "15:35:39,693 INFO: Sleeping for 5 seconds...\n",
    "15:35:44,697 INFO: Current thread count: 22\n",
    "15:35:44,698 INFO: Current threads:\n",
    "15:35:44,698 INFO: -- MainThread\n",
    "15:35:44,698 INFO: -- Mandrill_X  <span class=\"asyncio-hl\"><-- x5</span>\n",
    "15:35:44,698 INFO: -- Thread-CallbackRequestDispatcher\n",
    "15:35:44,698 INFO: -- Thread-ConsumeBidirectionalStream\n",
    "15:35:44,698 INFO: -- Thread-1\n",
    "15:35:44,698 INFO: -- Thread-LeaseMaintainer\n",
    "15:35:44,698 INFO: -- Thread-2\n",
    "15:35:44,698 INFO: -- Thread-Heartbeater\n",
    "15:35:44,698 INFO: -- ThreadPoolExecutor-ThreadScheduler_X  <span class=\"asyncio-hl\"><-- x10</span>\n",
    "15:35:44,699 INFO: Sleeping for 5 seconds...\n",
    "15:35:49,703 INFO: Current thread count: 22\n",
    "15:35:49,704 INFO: Current threads:\n",
    "15:35:49,704 INFO: -- MainThread\n",
    "15:35:49,704 INFO: -- Mandrill_X   <-- X5\n",
    "15:35:49,704 INFO: -- Thread-CallbackRequestDispatcher\n",
    "15:35:49,704 INFO: -- Thread-ConsumeBidirectionalStream\n",
    "15:35:49,704 INFO: -- Thread-1\n",
    "15:35:49,704 INFO: -- Thread-LeaseMaintainer\n",
    "15:35:49,704 INFO: -- Thread-2\n",
    "15:35:49,704 INFO: -- Thread-Heartbeater\n",
    "15:35:49,704 INFO: -- ThreadPoolExecutor-ThreadScheduler_X  <span class=\"asyncio-hl\"><-- x10</span>\n",
    "15:35:49,705 INFO: Sleeping for 5 seconds...\n",
    "15:35:54,707 INFO: Current thread count: 23\n",
    "15:35:54,707 INFO: Current threads:\n",
    "15:35:54,707 INFO: -- MainThread\n",
    "15:35:54,707 INFO: -- Mandrill_X  <span class=\"asyncio-hl\"><-- x5</span>\n",
    "15:35:54,707 INFO: -- Thread-CallbackRequestDispatcher\n",
    "15:35:54,707 INFO: -- Thread-ConsumeBidirectionalStream\n",
    "15:35:54,707 INFO: -- Thread-1\n",
    "15:35:54,707 INFO: -- Thread-LeaseMaintainer\n",
    "15:35:54,707 INFO: -- Thread-2\n",
    "15:35:54,708 INFO: -- Thread-Heartbeater\n",
    "15:35:54,708 INFO: -- ThreadPoolExecutor-ThreadScheduler_X  <-- x10\n",
    "15:35:54,708 INFO: -- Thread-MonitorBatchPublisher\n",
    "</code></pre>"
   ]
  },
  {
   "cell_type": "markdown",
   "metadata": {
    "slideshow": {
     "slide_type": "notes"
    }
   },
   "source": [
    "We see we have the `MainThread` which is the `asyncio` event loop. There's also five `Mandrill_`-prefixed threads that were created by our threadpool executor. There's five because we limited the number of workers when creating the executor. It looks as if the subscription client has its own threadpool executor named `ThreadPoolExecutor-ThreadScheduler`; `Thread-MonitorBatchPublisher` is from the publisher; and some gRPC/bidirectional streaming going on with the rest of the threads (heart beater, lease maintainer, etc). \n",
    "\n",
    "All in all, though, the approach to threaded code isn't any different than the non-async code. "
   ]
  },
  {
   "cell_type": "markdown",
   "metadata": {
    "slideshow": {
     "slide_type": "subslide"
    }
   },
   "source": [
    "## Calling async code from threads\n",
    "<img src=\"images/surprised_mandrill_4.jpg\" style=\"height:400px\"></img>"
   ]
  },
  {
   "cell_type": "markdown",
   "metadata": {
    "slideshow": {
     "slide_type": "notes"
    }
   },
   "source": [
    "Until you release you need to call asynchronous code from a non-async function that's within a thread.\n",
    "\n",
    "Obviously we can't just `ack` a message once we receive it. We need to restart the required host and save the message in our database. We have to somehow call asynchronous code from a non-async function, from a separate thread."
   ]
  },
  {
   "cell_type": "code",
   "execution_count": null,
   "metadata": {
    "slideshow": {
     "slide_type": "subslide"
    }
   },
   "outputs": [],
   "source": [
    "def callback(msg):\n",
    "    data = json.loads(msg.data.decode('utf-8'))\n",
    "    logging.info(f'Consumed {data[\"msg_id\"]}')\n",
    "    asyncio.create_task(handle_message(data))"
   ]
  },
  {
   "cell_type": "markdown",
   "metadata": {
    "slideshow": {
     "slide_type": "notes"
    }
   },
   "source": [
    "This is pretty embarrassing, bare with me. Let's first attempt to use the `asyncio` API that we're familar with, and update the callback function with creating a task via `asyncio.create_task` from the `handle_message` coroutine we defined earlier:"
   ]
  },
  {
   "cell_type": "markdown",
   "metadata": {
    "slideshow": {
     "slide_type": "subslide"
    }
   },
   "source": [
    "<pre><code>\n",
    "16:45:36,709 INFO: Running something else\n",
    "16:45:36,833 INFO: Consumed es7s\n",
    "<span class=\"asyncio-hl\">16:45:36,833 ERROR: Top-level exception occurred in callback while processing a message</span>\n",
    "Traceback (most recent call last):\n",
    "  File \"/Users/lynn/.pyenv/versions/ep18-37/lib/python3.7/site-packages/google/cloud/pubsub_v1/subscriber/_protocol/streaming_pull_manager.py\", line 63, in _wrap_callback_errors\n",
    "    callback(message)\n",
    "  File \"examples/mandrill/mayhem_21.py\", line 115, in callback\n",
    "    asyncio.create_task(handle_message(data))\n",
    "  File \"/Users/lynn/.pyenv/versions/3.7.0/lib/python3.7/asyncio/tasks.py\", line 320, in create_task\n",
    "    loop = events.get_running_loop()\n",
    "</code></pre>"
   ]
  },
  {
   "cell_type": "markdown",
   "metadata": {
    "slideshow": {
     "slide_type": "notes"
    }
   },
   "source": [
    "Ugh; sure, yes this of course makes sense. At this point, we're in another thread and there is no loop running for that thread."
   ]
  },
  {
   "cell_type": "code",
   "execution_count": null,
   "metadata": {
    "slideshow": {
     "slide_type": "subslide"
    }
   },
   "outputs": [],
   "source": [
    "def callback(msg):\n",
    "    data = json.loads(msg.data.decode('utf-8'))\n",
    "    logging.info(f'Consumed {data[\"msg_id\"]}')\n",
    "    current_thread = threading.current_thread()\n",
    "    logging.info(f'Current thread: {current_thread.name}')\n",
    "    try:\n",
    "        loop = asyncio.get_running_loop()\n",
    "        logging.info(f'Found loop: {loop}')\n",
    "    except RuntimeError:\n",
    "        logging.error('No event loop in thread')\n",
    "    asyncio.create_task(handle_message(data))"
   ]
  },
  {
   "cell_type": "markdown",
   "metadata": {
    "slideshow": {
     "slide_type": "notes"
    }
   },
   "source": [
    "To help show what thread we're in, let's add some log lines."
   ]
  },
  {
   "cell_type": "markdown",
   "metadata": {
    "slideshow": {
     "slide_type": "subslide"
    }
   },
   "source": [
    "<pre><code>\n",
    "17:35:11,785 INFO: Running something else\n",
    "17:35:11,855 INFO: Running something else\n",
    "17:35:11,856 INFO: Consumed xw6r\n",
    "17:35:11,856 INFO: Current thread: ThreadPoolExecutor-ThreadScheduler_0\n",
    "<span class=\"asyncio-hl\">17:35:11,856 ERROR: No event loop in thread</span>\n",
    "17:35:11,856 ERROR: Top-level exception occurred in callback while processing a message\n",
    "Traceback (most recent call last):\n",
    "# snip\n",
    "</code></pre>"
   ]
  },
  {
   "cell_type": "markdown",
   "metadata": {
    "slideshow": {
     "slide_type": "notes"
    }
   },
   "source": [
    "Indeed, the current thread for the callback does not have a running event loop (I hear some eye rolls), as described in [the docs](https://docs.python.org/3/library/asyncio-eventloops.html#asyncio.get_running_loop). D'uh Lynn, read the freaking manual."
   ]
  },
  {
   "cell_type": "code",
   "execution_count": null,
   "metadata": {
    "slideshow": {
     "slide_type": "subslide"
    }
   },
   "outputs": [],
   "source": [
    "def consume_sync(loop):\n",
    "    client = get_subscriber()\n",
    "    def callback(pubsub_msg):\n",
    "        logging.info(f'Consumed {pubsub_msg.message_id}')\n",
    "        loop.create_task(handle_message(pubsub_msg))\n",
    "    client.subscribe(SUBSCRIPTION, callback)"
   ]
  },
  {
   "cell_type": "markdown",
   "metadata": {
    "slideshow": {
     "slide_type": "notes"
    }
   },
   "source": [
    "What if we _gave_ it the loop we're using?"
   ]
  },
  {
   "cell_type": "markdown",
   "metadata": {
    "slideshow": {
     "slide_type": "subslide"
    }
   },
   "source": [
    "```\n",
    "18:08:09,761 INFO: Running something else\n",
    "18:08:09,826 INFO: Consumed 5236\n",
    "18:08:09,826 INFO: Consumed 5237\n",
    "18:08:09,827 INFO: Consumed 5238\n",
    "18:08:09,827 INFO: Consumed 5239\n",
    "18:08:09,828 INFO: Consumed 5240\n",
    "18:08:10,543 INFO: Handling Message(inst_name='xbci')\n",
    "18:08:10,543 INFO: Handling Message(inst_name='e8x5')\n",
    "18:08:10,544 INFO: Handling Message(inst_name='shti')\n",
    "18:08:10,544 INFO: Handling Message(inst_name='9yne')\n",
    "18:08:10,544 INFO: Handling Message(inst_name='qgor')\n",
    "18:08:10,544 INFO: Running something else\n",
    "18:08:10,601 INFO: Saved Message(inst_name='shti') into database\n",
    "18:08:10,721 INFO: Saved Message(inst_name='e8x5') into database\n",
    "18:08:10,828 INFO: Saved Message(inst_name='xbci') into database\n",
    "18:08:10,828 WARNING: Caught exception: Could not restart xbci.example.net\n",
    "18:08:11,162 INFO: Saved Message(inst_name='9yne') into database\n",
    "18:08:11,167 INFO: Running something else\n",
    "18:08:11,481 INFO: Saved Message(inst_name='qgor') into database\n",
    "18:08:11,549 INFO: Restarted e8x5.example.net\n",
    "18:08:11,550 INFO: Restarted 9yne.example.net\n",
    "18:08:11,550 INFO: Restarted qgor.example.net\n",
    "18:08:11,674 INFO: Done. Acked 5240\n",
    "18:08:11,821 INFO: Done. Acked 5236\n",
    "18:08:12,108 INFO: Running something else\n",
    "18:08:12,276 INFO: Done. Acked 5237\n",
    "18:08:12,322 INFO: Running something else\n",
    "18:08:12,510 INFO: Done. Acked 5239\n",
    "18:08:12,549 INFO: Restarted shti.example.net\n",
    "18:08:12,839 INFO: Running something else\n",
    "18:08:12,841 INFO: Consumed 5241\n",
    "18:08:12,842 INFO: Consumed 5242\n",
    "18:08:12,842 INFO: Consumed 5243\n",
    "18:08:12,843 INFO: Consumed 5244\n",
    "18:08:12,843 INFO: Consumed 5245\n",
    "18:08:13,153 INFO: Handling Message(inst_name='udtv')\n",
    "18:08:13,154 INFO: Handling Message(inst_name='a75e')\n",
    "18:08:13,154 INFO: Handling Message(inst_name='rvxb')\n",
    "18:08:13,154 INFO: Handling Message(inst_name='ka9a')\n",
    "18:08:13,154 INFO: Handling Message(inst_name='o7f2')\n",
    "18:08:13,155 INFO: Done. Acked 5238\n",
    "18:08:13,322 INFO: Saved Message(inst_name='rvxb') into database\n",
    "18:08:13,477 INFO: Saved Message(inst_name='ka9a') into database\n",
    "18:08:13,478 WARNING: Caught exception: Could not restart ka9a.example.net\n",
    "^C18:08:13,506 INFO: Received exit signal SIGINT...\n",
    "18:08:13,506 INFO: Shutdown complete.\n",
    "18:08:13,506 INFO: Cleaning up\n",
    "```"
   ]
  },
  {
   "cell_type": "markdown",
   "metadata": {
    "slideshow": {
     "slide_type": "notes"
    }
   },
   "source": [
    "This is deceptive. We're lucky it works. Once we share some object between the threaded code in the callback, and the asynchronous code when handling the message, we see that we've shot ourselves in the foot. "
   ]
  },
  {
   "cell_type": "code",
   "execution_count": null,
   "metadata": {
    "slideshow": {
     "slide_type": "subslide"
    }
   },
   "outputs": [],
   "source": [
    "GLOBAL_QUEUE = asyncio.Queue()\n",
    "\n",
    "# add to main loop to run\n",
    "async def get_from_queue():\n",
    "    while True:\n",
    "        pubsub_msg = await GLOBAL_QUEUE.get()\n",
    "        logging.info(f'Got {pubsub_msg.message_id} from queue')\n",
    "        asyncio.create_task(handle_message(pubsub_msg))\n",
    "\n",
    "# callback for consumer\n",
    "async def add_to_queue(msg):\n",
    "    logging.info(f'Adding {msg.message_id} to queue')\n",
    "    await GLOBAL_QUEUE.put(msg)\n",
    "    \n",
    "def consume_sync(loop):\n",
    "    client = get_subscriber()\n",
    "    def callback(pubsub_msg):\n",
    "        logging.info(f'Consumed {pubsub_msg.message_id}')\n",
    "        # returns an asyncio.Task obj\n",
    "        task = loop.create_task(handle_message(pubsub_msg))\n",
    "        task.cancel()  # to prove this isn't thread safe\n",
    "\n",
    "    client.subscribe(SUBSCRIPTION, callback)"
   ]
  },
  {
   "cell_type": "markdown",
   "metadata": {
    "slideshow": {
     "slide_type": "notes"
    }
   },
   "source": [
    "Let's create a shared queue that the consumer will add to, and then we read off of it to give to `handle_message`."
   ]
  },
  {
   "cell_type": "markdown",
   "metadata": {
    "slideshow": {
     "slide_type": "subslide"
    }
   },
   "source": [
    "```\n",
    "18:12:08,359 INFO: Consumed 5241\n",
    "18:12:08,359 INFO: Consumed 5243\n",
    "18:12:08,359 INFO: Consumed 5244\n",
    "18:12:08,360 INFO: Consumed 5245\n",
    "18:12:08,360 INFO: Consumed 5242\n",
    "18:12:08,414 INFO: Consumed 5246\n",
    "18:12:08,415 INFO: Consumed 5247\n",
    "18:12:08,415 INFO: Consumed 5248\n",
    "18:12:08,415 INFO: Consumed 5249\n",
    "18:12:08,416 INFO: Consumed 5250\n",
    "18:12:08,821 INFO: Adding 5241 to queue\n",
    "18:12:08,821 INFO: Adding 5243 to queue\n",
    "18:12:08,822 INFO: Adding 5244 to queue\n",
    "18:12:08,822 INFO: Adding 5245 to queue\n",
    "18:12:08,822 INFO: Adding 5242 to queue\n",
    "18:12:08,822 INFO: Adding 5246 to queue\n",
    "18:12:08,822 INFO: Adding 5247 to queue\n",
    "18:12:08,822 INFO: Adding 5248 to queue\n",
    "18:12:08,822 INFO: Adding 5249 to queue\n",
    "18:12:08,822 INFO: Adding 5250 to queue\n",
    "18:12:13,403 INFO: Consumed 5251\n",
    "18:12:13,404 INFO: Consumed 5252\n",
    "18:12:13,404 INFO: Consumed 5253\n",
    "18:12:13,404 INFO: Consumed 5254\n",
    "18:12:13,404 INFO: Consumed 5255\n",
    "18:12:13,875 INFO: Adding 5251 to queue\n",
    "18:12:13,876 INFO: Adding 5252 to queue\n",
    "18:12:13,876 INFO: Adding 5253 to queue\n",
    "18:12:13,876 INFO: Adding 5254 to queue\n",
    "18:12:13,876 INFO: Adding 5255 to queue\n",
    "^C18:12:14,896 INFO: Received exit signal SIGINT...\n",
    "18:12:14,896 INFO: Shutdown complete.\n",
    "18:12:14,896 INFO: Cleaning up\n",
    "```"
   ]
  },
  {
   "cell_type": "markdown",
   "metadata": {
    "slideshow": {
     "slide_type": "notes"
    }
   },
   "source": [
    "Running it, we see something funky. The log line `logging.info(f'Got {pubsub_msg.message_id} from queue')` never shows; it doesn't ever look like we consume from our global queue."
   ]
  },
  {
   "cell_type": "code",
   "execution_count": null,
   "metadata": {
    "slideshow": {
     "slide_type": "subslide"
    }
   },
   "outputs": [],
   "source": [
    "async def add_to_queue(msg):\n",
    "    logging.info(f'Adding {msg.message_id} to queue')\n",
    "    await GLOBAL_QUEUE.put(msg)\n",
    "    logging.info(f'Current queue size: {GLOBAL_QUEUE.qsize()}')"
   ]
  },
  {
   "cell_type": "markdown",
   "metadata": {
    "slideshow": {
     "slide_type": "notes"
    }
   },
   "source": [
    "If we add a line in our `add_to_queue` coroutine to see the queue size:"
   ]
  },
  {
   "cell_type": "markdown",
   "metadata": {
    "slideshow": {
     "slide_type": "subslide"
    }
   },
   "source": [
    "```\n",
    "18:17:09,537 INFO: Adding 5271 to queue\n",
    "18:17:09,537 INFO: Current queue size: 1\n",
    "18:17:09,537 INFO: Adding 5272 to queue\n",
    "18:17:09,537 INFO: Current queue size: 2\n",
    "18:17:09,537 INFO: Adding 5273 to queue\n",
    "18:17:09,537 INFO: Current queue size: 3\n",
    "18:17:09,537 INFO: Adding 5274 to queue\n",
    "18:17:09,537 INFO: Current queue size: 4\n",
    "18:17:09,537 INFO: Adding 5275 to queue\n",
    "18:17:09,537 INFO: Current queue size: 5\n",
    "18:17:14,572 INFO: Adding 5276 to queue\n",
    "18:17:14,572 INFO: Current queue size: 6\n",
    "18:17:14,572 INFO: Adding 5277 to queue\n",
    "18:17:14,572 INFO: Current queue size: 7\n",
    "18:17:14,572 INFO: Adding 5278 to queue\n",
    "18:17:14,572 INFO: Current queue size: 8\n",
    "18:17:14,572 INFO: Adding 5279 to queue\n",
    "18:17:14,572 INFO: Current queue size: 9\n",
    "18:17:14,572 INFO: Adding 5280 to queue\n",
    "18:17:14,572 INFO: Current queue size: 10\n",
    "^C18:17:16,899 INFO: Received exit signal SIGINT...\n",
    "18:17:16,899 INFO: Shutdown complete.\n",
    "18:17:16,899 INFO: Cleaning up\n",
    "```"
   ]
  },
  {
   "cell_type": "markdown",
   "metadata": {
    "slideshow": {
     "slide_type": "notes"
    }
   },
   "source": [
    "We can see that the queue is ever-growing, and in fact we're not reading from it.\n",
    "\n",
    "I'm sure a lot of you see what's going on here. We're not thread safe. /facepalm/"
   ]
  },
  {
   "cell_type": "code",
   "execution_count": null,
   "metadata": {
    "slideshow": {
     "slide_type": "subslide"
    }
   },
   "outputs": [],
   "source": [
    "def callback(loop, pubsub_msg):\n",
    "    logging.info(f'Consumed {pubsub_msg.message_id}')\n",
    "    coro = add_to_queue(pubsub_msg)\n",
    "    # returns a concurrent.futures.Future obj\n",
    "    fut = asyncio.run_coroutine_threadsafe(coro, loop)\n",
    "    fut.cancel()"
   ]
  },
  {
   "cell_type": "markdown",
   "metadata": {
    "slideshow": {
     "slide_type": "notes"
    }
   },
   "source": [
    "Let's make use of `asyncio.run_coroutine_threadsafe` to see what happens"
   ]
  },
  {
   "cell_type": "markdown",
   "metadata": {
    "slideshow": {
     "slide_type": "subslide"
    }
   },
   "source": [
    "```\n",
    "20:46:59,144 INFO: Running something else\n",
    "20:46:59,209 INFO: Consumed 6806\n",
    "20:46:59,210 INFO: Consumed 6835\n",
    "20:46:59,210 INFO: Adding 6806 to queue\n",
    "20:46:59,210 INFO: Current queue size: 1\n",
    "20:46:59,210 INFO: Adding 6835 to queue\n",
    "20:46:59,210 INFO: Current queue size: 2\n",
    "20:46:59,211 INFO: Got 6806 from queue\n",
    "20:46:59,211 INFO: Got 6835 from queue\n",
    "20:46:59,211 INFO: Consumed 6834\n",
    "20:46:59,211 INFO: Handling Message(inst_name='mbab')\n",
    "20:46:59,212 INFO: Consumed 6823\n",
    "20:46:59,212 INFO: Handling Message(inst_name='tekn')\n",
    "20:46:59,212 INFO: Consumed 6822\n",
    "20:46:59,212 INFO: Adding 6834 to queue\n",
    "20:46:59,213 INFO: Consumed 6825\n",
    "20:46:59,213 INFO: Current queue size: 1\n",
    "20:46:59,213 INFO: Consumed 6828\n",
    "20:46:59,214 INFO: Adding 6823 to queue\n",
    "20:46:59,214 INFO: Consumed 6829\n",
    "20:46:59,214 INFO: Current queue size: 2\n",
    "20:46:59,214 INFO: Consumed 6826\n",
    "20:46:59,215 INFO: Got 6834 from queue\n",
    "20:46:59,215 INFO: Got 6823 from queue\n",
    "20:46:59,215 INFO: Adding 6822 to queue\n",
    "20:46:59,215 INFO: Current queue size: 1\n",
    "20:46:59,215 INFO: Handling Message(inst_name='prgs')\n",
    "20:46:59,216 INFO: Handling Message(inst_name='ifoc')\n",
    "20:46:59,216 INFO: Adding 6825 to queue\n",
    "20:46:59,216 INFO: Current queue size: 2\n",
    "20:46:59,216 INFO: Consumed 6832\n",
    "20:46:59,216 INFO: Adding 6828 to queue\n",
    "20:46:59,216 INFO: Consumed 6833\n",
    "```"
   ]
  },
  {
   "cell_type": "markdown",
   "metadata": {
    "slideshow": {
     "slide_type": "subslide"
    }
   },
   "source": [
    "<h1><span style=\"font-size:50%;font-style:italic;color:gray;\">TL;DR: Making synchronous code <code>asyncio</code>-friendly</span></h1>"
   ]
  },
  {
   "cell_type": "markdown",
   "metadata": {
    "slideshow": {
     "slide_type": "fragment"
    }
   },
   "source": [
    "* Simple to get around synchronous with `ThreadPoolExecutor`"
   ]
  },
  {
   "cell_type": "markdown",
   "metadata": {
    "slideshow": {
     "slide_type": "fragment"
    }
   },
   "source": [
    "* Threads & `asyncio` - use `_threadsafe` API"
   ]
  },
  {
   "cell_type": "markdown",
   "metadata": {
    "slideshow": {
     "slide_type": "notes"
    }
   },
   "source": [
    "In my opinion, it isn't difficult to work with synchronous code with `asyncio`.\n",
    "\n",
    "However, it _is_ difficult to work with threads, particularly with asyncio. If you must, use the `_threadsafe` APIs that `asyncio` gives you."
   ]
  },
  {
   "cell_type": "markdown",
   "metadata": {
    "slideshow": {
     "slide_type": "subslide"
    }
   },
   "source": [
    "<img src=\"images/mandrill_backpack.jpg\"/>"
   ]
  },
  {
   "cell_type": "markdown",
   "metadata": {
    "slideshow": {
     "slide_type": "notes"
    }
   },
   "source": [
    "But if you can just hide away somewhere where they can't get you."
   ]
  },
  {
   "cell_type": "markdown",
   "metadata": {
    "slideshow": {
     "slide_type": "slide"
    }
   },
   "source": [
    "# Thank you!\n",
    "<h3>rogue.ly/aio</h3>\n",
    "<h3> Lynn Root <span style=\"color:rgb(25,230,140)\">|</span> Spotify <span style=\"color:rgb(25,230,140)\">|</span> @roguelynn</h3>"
   ]
  },
  {
   "cell_type": "markdown",
   "metadata": {
    "slideshow": {
     "slide_type": "notes"
    }
   },
   "source": [
    "So in essence, this talk is something I would have liked a year ago; so I'm speaking to past Lynn here. But I'm hoping there are others that benefit from a use case that's not a web crawler. \n",
    "\n",
    "Thanks!"
   ]
  }
 ],
 "metadata": {
  "celltoolbar": "Slideshow",
  "kernelspec": {
   "display_name": "Python 3",
   "language": "python",
   "name": "python3"
  },
  "language_info": {
   "codemirror_mode": {
    "name": "ipython",
    "version": 3
   },
   "file_extension": ".py",
   "mimetype": "text/x-python",
   "name": "python",
   "nbconvert_exporter": "python",
   "pygments_lexer": "ipython3",
   "version": "3.7.0"
  }
 },
 "nbformat": 4,
 "nbformat_minor": 2
}
