{
 "cells": [
  {
   "cell_type": "markdown",
   "source": [
    "## Data and time basics"
   ],
   "metadata": {
    "collapsed": false
   }
  },
  {
   "cell_type": "code",
   "execution_count": 1,
   "outputs": [
    {
     "name": "stdout",
     "text": [
      "08:21:41\n14/10/2019\n"
     ],
     "output_type": "stream"
    }
   ],
   "source": [
    "import time\n",
    "\n",
    "# print time HOURS:MINUTES:SECONDS\n",
    "# e.g., '10:50:58'\n",
    "print(time.strftime(\"%H:%M:%S\"))\n",
    "\n",
    "# print current date DAY:MONTH:YEAR\n",
    "# e.g., '06/03/2014'\n",
    "print(time.strftime(\"%d/%m/%Y\"))"
   ],
   "metadata": {
    "collapsed": false,
    "pycharm": {
     "name": "#%%\n",
     "is_executing": false
    }
   }
  },
  {
   "cell_type": "markdown",
   "source": [
    "## Differences between successive elements in a list"
   ],
   "metadata": {
    "collapsed": false
   }
  },
  {
   "cell_type": "code",
   "execution_count": 2,
   "outputs": [
    {
     "name": "stdout",
     "text": [
      "[1, 1, 2, 3]\n"
     ],
     "output_type": "stream"
    }
   ],
   "source": [
    "from itertools import islice\n",
    "\n",
    "lst = [1,2,3,5,8]\n",
    "diff = [j - i for i, j in zip(lst, islice(lst, 1, None))]\n",
    "print(diff)"
   ],
   "metadata": {
    "collapsed": false,
    "pycharm": {
     "name": "#%%\n",
     "is_executing": false
    }
   }
  },
  {
   "cell_type": "markdown",
   "source": [
    "## Indices of min and max elements from a list"
   ],
   "metadata": {
    "collapsed": false
   }
  },
  {
   "cell_type": "code",
   "execution_count": 3,
   "outputs": [
    {
     "name": "stdout",
     "text": [
      "min_index: 0 min_value: 1\nmax_index: 4 max_value: 5\n"
     ],
     "output_type": "stream"
    }
   ],
   "source": [
    "import operator\n",
    "\n",
    "values = [1, 2, 3, 4, 5]\n",
    "\n",
    "min_index, min_value = min(enumerate(values), key=operator.itemgetter(1))\n",
    "max_index, max_value = max(enumerate(values), key=operator.itemgetter(1))\n",
    "\n",
    "print('min_index:', min_index, 'min_value:', min_value)\n",
    "print('max_index:', max_index, 'max_value:', max_value)"
   ],
   "metadata": {
    "collapsed": false,
    "pycharm": {
     "name": "#%%\n",
     "is_executing": false
    }
   }
  },
  {
   "cell_type": "markdown",
   "source": [
    "## Lambda functions"
   ],
   "metadata": {
    "collapsed": false
   }
  },
  {
   "cell_type": "code",
   "execution_count": 4,
   "outputs": [],
   "source": [
    "# Lambda functions are just a short-hand way or writing\n",
    "# short function definitions\n",
    "\n",
    "def square_root1(x):\n",
    "    return x**0.5\n",
    "    \n",
    "square_root2 = lambda x: x**0.5\n",
    "\n",
    "assert(square_root1(9) == square_root2(9))"
   ],
   "metadata": {
    "collapsed": false,
    "pycharm": {
     "name": "#%%\n",
     "is_executing": false
    }
   }
  },
  {
   "cell_type": "markdown",
   "source": [
    "## Private functions"
   ],
   "metadata": {
    "collapsed": false
   }
  },
  {
   "cell_type": "code",
   "execution_count": 5,
   "outputs": [
    {
     "name": "stdout",
     "text": [
      "My message: Hello, World\n"
     ],
     "output_type": "stream"
    }
   ],
   "source": [
    "def create_message(msg_txt):\n",
    "    def _priv_msg(message):     # private, no access from outside\n",
    "        print(\"{}: {}\".format(msg_txt, message))\n",
    "    return _priv_msg            # returns a function\n",
    "\n",
    "new_msg = create_message(\"My message\")\n",
    "# note, new_msg is a function\n",
    "\n",
    "new_msg(\"Hello, World\")"
   ],
   "metadata": {
    "collapsed": false,
    "pycharm": {
     "name": "#%%\n",
     "is_executing": false
    }
   }
  },
  {
   "cell_type": "markdown",
   "source": [
    "## Normalizing data"
   ],
   "metadata": {
    "collapsed": false
   }
  },
  {
   "cell_type": "code",
   "execution_count": 6,
   "outputs": [],
   "source": [
    "def normalize(data, min_val=0, max_val=1):\n",
    "    \"\"\"\n",
    "    Normalizes values in a list of data points to a range, e.g.,\n",
    "    between 0.0 and 1.0. \n",
    "    Returns the original object if value is not a integer or float.\n",
    "    \n",
    "    \"\"\"\n",
    "    norm_data = []\n",
    "    data_min = min(data)\n",
    "    data_max = max(data)\n",
    "    for x in data:\n",
    "        numerator = x - data_min\n",
    "        denominator = data_max - data_min\n",
    "        x_norm = (max_val-min_val) * numerator/denominator + min_val\n",
    "        norm_data.append(x_norm)\n",
    "    return norm_data"
   ],
   "metadata": {
    "collapsed": false,
    "pycharm": {
     "name": "#%%\n",
     "is_executing": false
    }
   }
  },
  {
   "cell_type": "code",
   "execution_count": 7,
   "outputs": [
    {
     "data": {
      "text/plain": "[0.0, 0.25, 0.5, 0.75, 1.0]"
     },
     "metadata": {},
     "output_type": "execute_result",
     "execution_count": 7
    }
   ],
   "source": [
    "normalize([1,2,3,4,5])"
   ],
   "metadata": {
    "collapsed": false,
    "pycharm": {
     "name": "#%%\n",
     "is_executing": false
    }
   }
  },
  {
   "cell_type": "code",
   "execution_count": 8,
   "outputs": [
    {
     "data": {
      "text/plain": "[-10.0, -5.0, 0.0, 5.0, 10.0]"
     },
     "metadata": {},
     "output_type": "execute_result",
     "execution_count": 8
    }
   ],
   "source": [
    "normalize([1,2,3,4,5], min_val=-10, max_val=10)\n"
   ],
   "metadata": {
    "collapsed": false,
    "pycharm": {
     "name": "#%%\n",
     "is_executing": false
    }
   }
  },
  {
   "cell_type": "markdown",
   "source": [
    "## Sorting lists of tuples by elements"
   ],
   "metadata": {
    "collapsed": false
   }
  },
  {
   "cell_type": "code",
   "execution_count": 9,
   "outputs": [
    {
     "name": "stdout",
     "text": [
      "[(2, 3, 'a'), (2, 2, 'b'), (3, 2, 'b'), (1, 3, 'c')]\n"
     ],
     "output_type": "stream"
    }
   ],
   "source": [
    "# Here, we make use of the \"key\" parameter of the in-built \"sorted()\" function \n",
    "# (also available for the \".sort()\" method), which let's us define a function \n",
    "# that is called on every element that is to be sorted. In this case, our \n",
    "# \"key\"-function is a simple lambda function that returns the last item \n",
    "# from every tuple.\n",
    "\n",
    "a_list = [(1,3,'c'), (2,3,'a'), (3,2,'b'), (2,2,'b')]\n",
    "\n",
    "sorted_list = sorted(a_list, key=lambda e: e[::-1])\n",
    "\n",
    "print(sorted_list)"
   ],
   "metadata": {
    "collapsed": false,
    "pycharm": {
     "name": "#%%\n",
     "is_executing": false
    }
   }
  },
  {
   "cell_type": "code",
   "execution_count": 10,
   "outputs": [
    {
     "name": "stdout",
     "text": [
      "[(2, 3, 'a'), (3, 2, 'b'), (2, 2, 'b'), (1, 3, 'c')]\n"
     ],
     "output_type": "stream"
    }
   ],
   "source": [
    "# prints [(2, 3, 'a'), (2, 2, 'b'), (3, 2, 'b'), (1, 3, 'c')]\n",
    "\n",
    "# If we are only interesting in sorting the list by the last element\n",
    "# of the tuple and don't care about a \"tie\" situation, we can also use\n",
    "# the index of the tuple item directly instead of reversing the tuple \n",
    "# for efficiency.\n",
    "\n",
    "a_list = [(1,3,'c'), (2,3,'a'), (3,2,'b'), (2,2,'b')]\n",
    "\n",
    "sorted_list = sorted(a_list, key=lambda e: e[-1])\n",
    "\n",
    "print(sorted_list)"
   ],
   "metadata": {
    "collapsed": false,
    "pycharm": {
     "name": "#%%\n",
     "is_executing": false
    }
   }
  },
  {
   "cell_type": "markdown",
   "source": [
    "## Sorting multiple lists relative to each other"
   ],
   "metadata": {
    "collapsed": false
   }
  },
  {
   "cell_type": "code",
   "execution_count": 11,
   "outputs": [
    {
     "name": "stdout",
     "text": [
      "input values:\n ['c', 'b', 'a'] [6, 5, 4] ['some-val-associated-with-c', 'another_val-b', 'z_another_third_val-a']\n\n\nsorted output:\n ['a', 'b', 'c'] [4, 5, 6] ['z_another_third_val-a', 'another_val-b', 'some-val-associated-with-c']\n"
     ],
     "output_type": "stream"
    }
   ],
   "source": [
    "\"\"\"\n",
    "You have 3 lists that you want to sort \"relative\" to each other,\n",
    "for example, picturing each list as a row in a 3x3 matrix: sort it by columns\n",
    "\n",
    "########################\n",
    "If the input lists are\n",
    "########################\n",
    "\n",
    " list1 = ['c','b','a']\n",
    " list2 = [6,5,4]\n",
    " list3 = ['some-val-associated-with-c','another_val-b','z_another_third_val-a']\n",
    "\n",
    "########################\n",
    "the desired outcome is:\n",
    "########################\n",
    "\n",
    " ['a', 'b', 'c'] \n",
    " [4, 5, 6] \n",
    " ['z_another_third_val-a', 'another_val-b', 'some-val-associated-with-c']\n",
    "\n",
    "########################\n",
    "and NOT:\n",
    "########################\n",
    "\n",
    " ['a', 'b', 'c'] \n",
    " [4, 5, 6] \n",
    " ['another_val-b', 'some-val-associated-with-c', 'z_another_third_val-a']\n",
    "\n",
    "\n",
    "\"\"\"\n",
    "\n",
    "list1 = ['c','b','a']\n",
    "list2 = [6,5,4]\n",
    "list3 = ['some-val-associated-with-c','another_val-b','z_another_third_val-a']\n",
    "\n",
    "print('input values:\\n', list1, list2, list3)\n",
    "\n",
    "list1, list2, list3 = [list(t) for t in zip(*sorted(zip(list1, list2, list3)))]\n",
    "\n",
    "print('\\n\\nsorted output:\\n', list1, list2, list3 )"
   ],
   "metadata": {
    "collapsed": false,
    "pycharm": {
     "name": "#%%\n",
     "is_executing": false
    }
   }
  },
  {
   "cell_type": "code",
   "execution_count": 11,
   "outputs": [],
   "source": [],
   "metadata": {
    "collapsed": false,
    "pycharm": {
     "name": "#%%\n",
     "is_executing": false
    }
   }
  }
 ],
 "metadata": {
  "kernelspec": {
   "display_name": "Python 3",
   "language": "python",
   "name": "python3"
  },
  "language_info": {
   "codemirror_mode": {
    "name": "ipython",
    "version": 3
   },
   "file_extension": ".py",
   "mimetype": "text/x-python",
   "name": "python",
   "nbconvert_exporter": "python",
   "pygments_lexer": "ipython3",
   "version": "3.4.3"
  },
  "pycharm": {
   "stem_cell": {
    "cell_type": "raw",
    "source": [],
    "metadata": {
     "collapsed": false
    }
   }
  }
 },
 "nbformat": 4,
 "nbformat_minor": 0
}