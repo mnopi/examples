{
 "cells": [
  {
   "cell_type": "markdown",
   "metadata": {
    "pycharm": {
     "name": "#%% md\n"
    }
   },
   "source": [
    "# Mi primer Jupyter notebook para mandarle a mi hijo una cosa que he aprendido hoy\n",
    "\n",
    "Llevaba tiempo que quería mirar [namedtuple() - Factory Function for Tuples with Named Fields](https://docs.python.org/3.7/library/collections.html#collections.namedtuple) de la librería standard de python.\n",
    "\n",
    "`namedtuple()` está dentro del módulo [collections - Container datatypes](https://docs.python.org/3.7/library/collections.html#module-collections).\n",
    ">  collections module implements specialized container datatypes providing alternatives to Python’s general purpose built-in containers, dict, list, set, and tuple\n",
    "\n",
    "Y quería mirarlo, porque me parece un peñazo de los `dict()` dos cosas:\n",
    "1. Que cuando se accede a ellos,  hay que meter el 'texto' de la key. Y si te equivocas, no se ve hasta que no lo ejecutas, o sea, el editor de PyCharm no te avisa\n",
    "2. Porque me gusta cuando defino variables, etc. que al usarlas en funciones, etc. sepa los valores que puedo meter, o sea el 'typing'.\n",
    "\n",
    "Lo que había hecho en el pasado era usar un clase de Python, de la librería, que es `enum.Enum` para definir, mis variables y sus posibles parámetros o argumentos.\n",
    "Pero era, como matar moscas a cañonazos.\n",
    "\n",
    "Bueno empiezo con la explicación, que esta relacionado con lo de esta mañana.\n",
    "\n",
    "## tuple()\n",
    "`tuple` es como una `list`,o sea, se accede con índices: 0, 1, .... n\n",
    "Pero la diferencia principal, es que `tuple` es \"inmutable\" y `list` es \"mutable\", eso quiere decir, que `tuple`no se puede modificar cuando se ha creado: ni cambiar valores de los 'items', ni añadir 'items', ni borrar 'items' y `list` si."
   ]
  },
  {
   "cell_type": "code",
   "execution_count": 1,
   "metadata": {
    "collapsed": true,
    "pycharm": {
     "is_executing": false,
     "name": "#%%\n"
    }
   },
   "outputs": [
    {
     "name": "stdout",
     "output_type": "stream",
     "text": [
      "-- list() ------------------------------------------------------\n",
      "<class 'list'>\n",
      "['ana', 'paca', 'juana', 'ana']\n",
      "item: ana\n",
      "item: paca\n",
      "item: juana\n",
      "item: ana\n",
      "lista[0]: ana\n",
      "-- tuple() ------------------------------------------------------\n",
      "<class 'tuple'>\n",
      "('ana', 'paca', 'juana', 'ana')\n",
      "item: ana\n",
      "item: paca\n",
      "item: juana\n",
      "item: ana\n",
      "tupla[0]: ana\n"
     ]
    }
   ],
   "source": [
    "print('-- list() ------------------------------------------------------')\n",
    "lista = ['ana', 'paca', 'juana', 'ana']\n",
    "print(type(lista))\n",
    "print(lista)\n",
    "for item in lista:\n",
    "    print(f'item: {item}')\n",
    "print(f'lista[0]: {lista[0]}')\n",
    "\n",
    "print('-- tuple() ------------------------------------------------------')\n",
    "tupla = ('ana', 'paca', 'juana', 'ana')\n",
    "print(type(tupla))\n",
    "print(tupla)\n",
    "for item in tupla:\n",
    "    print(f'item: {item}')\n",
    "print(f'tupla[0]: {tupla[0]}')"
   ]
  },
  {
   "cell_type": "markdown",
   "metadata": {},
   "source": [
    "Pero la diferencia principal, es que `tuple` es \"inmutable\" y `list` es \"mutable\", eso quiere decir, que `tuple`no se puede modificar cuando se ha creado: ni cambiar valores de los 'items', ni añadir 'items', ni borrar 'items' y `list` si."
   ]
  },
  {
   "cell_type": "code",
   "execution_count": 2,
   "metadata": {
    "pycharm": {
     "is_executing": false,
     "name": "#%%\n"
    }
   },
   "outputs": [
    {
     "name": "stdout",
     "output_type": "stream",
     "text": [
      "['ana', 'paca', 'juana', 'ana', 'marisol']\n",
      "['teresa', 'paca', 'juana', 'ana', 'marisol']\n",
      "juana\n",
      "['teresa', 'paca', 'ana', 'marisol']\n",
      "\n",
      "tupla[0] = 'teresa' ¡¡¡Saldrá error, por eso para que sigan ejecutandose las otras celdas te hago esto, asi es el error, pero se pueden ejecutar las otras celdas del libro!!!\n",
      "TypeError(\"'tuple' object does not support item assignment\")\n"
     ]
    }
   ],
   "source": [
    "lista.append('marisol')\n",
    "print(lista)\n",
    "lista[0] = 'teresa'\n",
    "print(lista)\n",
    "print(lista.pop(2))\n",
    "print(lista)\n",
    "\n",
    "print(\"\\ntupla[0] = 'teresa' ¡¡¡Saldrá error, por eso para que sigan ejecutandose las otras celdas te hago esto, asi es el error, pero se pueden ejecutar las otras celdas del libro!!!\")\n",
    "try:\n",
    "    tupla[0] = 'teresa'\n",
    "except TypeError as exception:\n",
    "    print(repr(exception))"
   ]
  },
  {
   "cell_type": "markdown",
   "metadata": {},
   "source": [
    "## nametuple()\n",
    "`nametuple`, en cierta forma, es como la clase sencilla `Customer` que has definido esta mañana. Pero en lugar de ser una clase, es una \"subclass\" de `tuple`.\n",
    "La nueva \"subclass\" que se genera con `nametuple()`, nos permite crear objetos \"tipo `tuple`\". \n",
    "\n",
    "Los nuevos objetos que creemos, con esta \"subclass\":\n",
    "1. Son igual de eficientes en memoria que una `tuple`, porque no tienen diccionarios por cada instancia que se genera, como si sucede cuando creas una clase nueva como la de esta mañana y se la asignas a una variable. (En la siguiente sección, te explicaré esto)\n",
    "2. Cada objeto que creemos con la subclase, está representado por los valores, no como si fuera un objeto (esto lo eras en la siguiente sección)\n",
    "3. Puedes acceder por \"nombre\" a los \"items\" de la tupla, como si fueran atributos de un objeto, o sea, no hay problemas de equivocarte con el \"index\", y puedes usar '.name' en lugar de '[0]'\n",
    "4. Puedes \"iterar\", o sea, hacer for con la namedtuple, y con un objeto no (con una tupla normal, si) \n",
    "\n",
    "Bueno ahora toca verlo."
   ]
  },
  {
   "cell_type": "code",
   "execution_count": 1,
   "metadata": {
    "pycharm": {
     "is_executing": false,
     "name": "#%%\n"
    }
   },
   "outputs": [
    {
     "output_type": "stream",
     "name": "stdout",
     "text": "-- class Customer() ------------------------------------------------------\ntype(Customer): <class 'type'>\nCustomer: <class '__main__.Customer'>\ntype(customer): <class '__main__.Customer'>\ncustomer: <__main__.Customer object at 0x105629fd0>\ncustomer.name: Ana\n\n-- tuple() ------------------------------------------------------\ntype(customer): <class 'tuple'>\ncustomer: ('Ana', 34, 5, 2)\ncustomer[0]: Ana\n\n-- namedtuple() ------------------------------------------------------\ntype(Customer): <class 'type'>\nCustomer: <class '__main__.Customer'>\ntype(customer): <class '__main__.Customer'>\ncustomer: Customer(name='Ana', age=34, experience=5, accidents=2)\ncustomer[0]: Ana\n"
    }
   ],
   "source": [
    "print('-- class Customer() ------------------------------------------------------')\n",
    "class Customer:\n",
    "    def __init__(self, name: str = str(), age: int = int(), experience: int = int(), accidents: int = int()):\n",
    "        self.name = name\n",
    "        self.age = age\n",
    "        self.experience = experience\n",
    "        self.accidents = accidents\n",
    "\n",
    "customer = Customer('Ana', 34, 5, 2)\n",
    "\n",
    "print(f'type(Customer): {type(Customer)}')\n",
    "print(f'Customer: {Customer}')\n",
    "print(f'type(customer): {type(customer)}')\n",
    "print(f'customer: {customer}')\n",
    "print(f'customer.name: {customer.name}')\n",
    "\n",
    "print('\\n-- tuple() ------------------------------------------------------')\n",
    "customer = ('Ana', 34, 5, 2)\n",
    "\n",
    "print(f'type(customer): {type(customer)}')\n",
    "print(f'customer: {customer}')\n",
    "print(f'customer[0]: {customer[0]}')\n",
    "\n",
    "print('\\n-- namedtuple() ------------------------------------------------------')\n",
    "from collections import namedtuple\n",
    "Customer = namedtuple('Customer', 'name age experience accidents')\n",
    "customer = Customer('Ana', 34, 5, 2)\n",
    "\n",
    "print(f'type(Customer): {type(Customer)}')\n",
    "print(f'Customer: {Customer}')\n",
    "print(f'type(customer): {type(customer)}')\n",
    "print(f'customer: {customer}')\n",
    "print(f'customer[0]: {customer[0]}')"
   ]
  },
  {
   "cell_type": "markdown",
   "metadata": {
    "pycharm": {
     "name": "#%% md\n"
    }
   },
   "source": [
    "No se si has mirado en detalle lo que ha salido de lo anterior, pero ahora te explico lo que te decia en el punto 1. y 2. pero voy a empezar por el 2.\n",
    "\n",
    "2. Cada objeto que creemos con la subclase, está representado por los valores, no como si fuera un objeto (esto lo eras en la siguiente sección)\n",
    "\n",
    "Fijate, que al imprimir el objeto (customer) iniciado con la clase Customer, nos sale, eso que es un objeto,\n",
    "sin embargo, al imprimir, el objeto (customer) iniciado con namedtuple, nos sale, la representación de una tupla, **pero la tupla tiene nombre y los \"items\" tienen \"keys\"\n",
    "\n",
    "```python\n",
    "from collections import namedtuple\n",
    "Customer = namedtuple('Customer', 'name age experience accidents')\n",
    "```\n",
    "El nombre de la tupla es el primer argumento que le hemos pasado a nametuple 'Customer' y \n",
    "y las \"keys\" de los items son cada una de las palabras que hemos puesto en el segundo argumento 'name age experience accidents' "
   ]
  },
  {
   "cell_type": "code",
   "execution_count": 4,
   "metadata": {
    "pycharm": {
     "is_executing": false,
     "name": "#%% \n"
    }
   },
   "outputs": [
    {
     "name": "stdout",
     "output_type": "stream",
     "text": [
      "-- class Customer() ------------------------------------------------------\n",
      "customer: <__main__.Customer object at 0x1041fb668>\n",
      "\n",
      "-- namedtuple() ------------------------------------------------------\n",
      "customer: Customer(name='Ana', age=34, experience=5, accidents=2)\n",
      "\n",
      "-- tuple() ------------------------------------------------------\n",
      "customer: ('Ana', 34, 5, 2)\n"
     ]
    }
   ],
   "source": [
    "print('-- class Customer() ------------------------------------------------------')\n",
    "print(\"customer: <__main__.Customer object at 0x1041fb668>\")\n",
    "\n",
    "print('\\n-- namedtuple() ------------------------------------------------------')\n",
    "print(\"customer: Customer(name='Ana', age=34, experience=5, accidents=2)\")\n",
    "\n",
    "print('\\n-- tuple() ------------------------------------------------------')\n",
    "print(\"customer: ('Ana', 34, 5, 2)\")"
   ]
  },
  {
   "cell_type": "markdown",
   "metadata": {},
   "source": [
    "Si te fijas entre el customer de namedtuple y en el de tuple, la diferencia es que a la tuple que se representa con (), le ha añadido a la izquierda el nombre de la tupla, y dentro de los (), a cada \"item\", le ha añadido su \"key\"\n",
    "\n",
    "Ahora te explico lo de que es mas eficiente que un objeto de una clase porque no tiene diccionarios.\n",
    "\n",
    "1. Son igual de eficientes en memoria que una `tuple`, porque no tienen diccionarios por cada instancia que se genera, como si sucede cuando creas una clase nueva como la de esta mañana y se la asignas a una variable. (En la siguiente sección, te explicaré esto)\n",
    "\n",
    "Cuando se crea un objeto con una clase, te añade, ademas de los atributos que tu has definido, los que añade python, eso lo ves con el método `__dir__()` que mete python en los objetos, y al ser un objeto añade uno que es \"__dict__\""
   ]
  },
  {
   "cell_type": "code",
   "execution_count": 5,
   "metadata": {
    "pycharm": {
     "is_executing": false,
     "name": "#%% \n"
    }
   },
   "outputs": [
    {
     "name": "stdout",
     "output_type": "stream",
     "text": [
      "['name',\n",
      " 'age',\n",
      " 'experience',\n",
      " 'accidents',\n",
      " '__module__',\n",
      " '__init__',\n",
      " '__dict__',\n",
      " '__weakref__',\n",
      " '__doc__',\n",
      " '__repr__',\n",
      " '__hash__',\n",
      " '__str__',\n",
      " '__getattribute__',\n",
      " '__setattr__',\n",
      " '__delattr__',\n",
      " '__lt__',\n",
      " '__le__',\n",
      " '__eq__',\n",
      " '__ne__',\n",
      " '__gt__',\n",
      " '__ge__',\n",
      " '__new__',\n",
      " '__reduce_ex__',\n",
      " '__reduce__',\n",
      " '__subclasshook__',\n",
      " '__init_subclass__',\n",
      " '__format__',\n",
      " '__sizeof__',\n",
      " '__dir__',\n",
      " '__class__']\n"
     ]
    }
   ],
   "source": [
    "from pprint import pprint\n",
    "class Customer:\n",
    "    def __init__(self, name: str = str(), age: int = int(), experience: int = int(), accidents: int = int()):\n",
    "        self.name = name\n",
    "        self.age = age\n",
    "        self.experience = experience\n",
    "        self.accidents = accidents\n",
    "\n",
    "customer = Customer('Ana', 34, 5, 2)\n",
    "\n",
    "pprint(customer.__dir__())"
   ]
  },
  {
   "cell_type": "code",
   "execution_count": 6,
   "metadata": {
    "pycharm": {
     "is_executing": false,
     "name": "#%% \n"
    }
   },
   "outputs": [
    {
     "name": "stdout",
     "output_type": "stream",
     "text": [
      "{'name': 'Ana', 'age': 34, 'experience': 5, 'accidents': 2}\n"
     ]
    }
   ],
   "source": [
    "print(customer.__dict__)\n"
   ]
  },
  {
   "cell_type": "markdown",
   "metadata": {
    "pycharm": {
     "name": "#%% md\n"
    }
   },
   "source": [
    "Si ahora miras los métodos que tiene la namedtuple, es que te ha añadido los de una tupla, iter, etc. y no tiene \"__dict__\"\n",
    "\n",
    "Te lo pongo con \"try\" para que no se rompa el libro y veas el error."
   ]
  },
  {
   "cell_type": "code",
   "execution_count": 7,
   "metadata": {
    "pycharm": {
     "is_executing": false,
     "name": "#%% \n"
    }
   },
   "outputs": [
    {
     "name": "stdout",
     "output_type": "stream",
     "text": [
      "['__doc__',\n",
      " '__slots__',\n",
      " '_fields',\n",
      " '_field_defaults',\n",
      " '_fields_defaults',\n",
      " '__new__',\n",
      " '_make',\n",
      " '_replace',\n",
      " '__repr__',\n",
      " '_asdict',\n",
      " '__getnewargs__',\n",
      " 'name',\n",
      " 'age',\n",
      " 'experience',\n",
      " 'accidents',\n",
      " '__module__',\n",
      " '__hash__',\n",
      " '__getattribute__',\n",
      " '__lt__',\n",
      " '__le__',\n",
      " '__eq__',\n",
      " '__ne__',\n",
      " '__gt__',\n",
      " '__ge__',\n",
      " '__iter__',\n",
      " '__len__',\n",
      " '__getitem__',\n",
      " '__add__',\n",
      " '__mul__',\n",
      " '__rmul__',\n",
      " '__contains__',\n",
      " 'index',\n",
      " 'count',\n",
      " '__str__',\n",
      " '__setattr__',\n",
      " '__delattr__',\n",
      " '__init__',\n",
      " '__reduce_ex__',\n",
      " '__reduce__',\n",
      " '__subclasshook__',\n",
      " '__init_subclass__',\n",
      " '__format__',\n",
      " '__sizeof__',\n",
      " '__dir__',\n",
      " '__class__']\n",
      "\n",
      " AttributeError(\"'Customer' object has no attribute '__dict__'\")\n"
     ]
    }
   ],
   "source": [
    "Customer = namedtuple('Customer', 'name age experience accidents')\n",
    "customer = Customer('Ana', 34, 5, 2)\n",
    "\n",
    "pprint(customer.__dir__())\n",
    "\n",
    "try:\n",
    "    print(customer.__dict__)\n",
    "except AttributeError as exception:\n",
    "    print(f\"\\n {repr(exception)}\")\n"
   ]
  },
  {
   "cell_type": "markdown",
   "metadata": {
    "pycharm": {
     "name": "#%% md\n"
    }
   },
   "source": [
    "y dirás ¿y todo este rollo para que?, pues no se, para muchas cosas, ja jaja. eso ya se te irán ocurriendo.\n",
    "\n",
    "espera que pienso. .... bueno escribo otra cosa\n",
    "\n",
    "Esta mañana, hice esto:\n",
    "````\n",
    "customers = [Customer(customer_data[0], customer_data[1], customer_data[2], customer_data[3])\n",
    "             for customer_data in customers_data]\n",
    "```\n",
    "y ahora si miras abajo, voy a meter,\n",
    "```\n",
    "customers = [Customer(*customer_data) for customer_data in customers_data]\n",
    "```\n",
    "que es lo mismo, pero mas elegante, cuando se le pone la * delante de una \"list\" o de una \"tupla\", lo que te hace el python, es descomponer la lista o la tupla, en sus elementos.\n",
    "\n",
    "Esto no lo habeis dado tranquilo, pero cuando llamas a una funcion funcion_mierda(), lo que pasa python dentro de los () al final es una tupla por eso es funcion(atributo1, atributo2),\n",
    "(atributo1, atributo2) es una tupla. Esta mañana, hacíamos a mano, lo de Customer(customer_data[0], ..) y le añadiamos una coma, entre cada \"item\" del customer_data que era una lista.\n",
    "\n",
    "Pues si le pones *customer_data, es lo mismo que haciamos uno por uno, el solo, nos desempaqueta (unpack que lo llaman) la lista. O sea, lo que ves abajo es lo mismo"
   ]
  },
  {
   "cell_type": "code",
   "execution_count": 8,
   "metadata": {
    "pycharm": {
     "is_executing": false,
     "name": "#%% \n"
    }
   },
   "outputs": [
    {
     "name": "stdout",
     "output_type": "stream",
     "text": [
      "fields: ('name', 'age', 'experience', 'accidents')\n",
      "type(customers): <class 'list'>\n",
      "[OrderedDict([('name', 'John Carl'),\n",
      "              ('age', 32),\n",
      "              ('experience', 13),\n",
      "              ('accidents', 0)]),\n",
      " OrderedDict([('name', 'Mary Carl'),\n",
      "              ('age', 25),\n",
      "              ('experience', 27),\n",
      "              ('accidents', 159)]),\n",
      " OrderedDict([('name', 'Mary Melody'),\n",
      "              ('age', 28),\n",
      "              ('experience', 13),\n",
      "              ('accidents', 32)]),\n",
      " OrderedDict([('name', 'Susie Perl'),\n",
      "              ('age', 33),\n",
      "              ('experience', 17),\n",
      "              ('accidents', 12)]),\n",
      " OrderedDict([('name', 'Andy Wharton'),\n",
      "              ('age', 66),\n",
      "              ('experience', 24),\n",
      "              ('accidents', 0)]),\n",
      " OrderedDict([('name', 'Jorge Mar'),\n",
      "              ('age', 44),\n",
      "              ('experience', 18),\n",
      "              ('accidents', 24)]),\n",
      " OrderedDict([('name', 'Mary Jorge'),\n",
      "              ('age', 37),\n",
      "              ('experience', 24),\n",
      "              ('accidents', 36)])]\n",
      "\n",
      "\n",
      "customer['name']: John Carl\n",
      "customer['name']: Mary Carl\n",
      "customer['name']: Mary Melody\n",
      "customer['name']: Susie Perl\n",
      "customer['name']: Andy Wharton\n",
      "customer['name']: Jorge Mar\n",
      "customer['name']: Mary Jorge\n"
     ]
    }
   ],
   "source": [
    "Customer = namedtuple('Customer', 'name age experience accidents')\n",
    "\n",
    "customers_data = [\n",
    "    ['John Carl', 32, 13, 0],\n",
    "    ['Mary Carl', 25, 27, 159],\n",
    "    ['Mary Melody', 28, 13, 32],\n",
    "    ['Susie Perl', 33, 17, 12],\n",
    "    ['Andy Wharton', 66, 24, 0],\n",
    "    ['Jorge Mar', 44, 18, 24],\n",
    "    ['Mary Jorge', 37, 24, 36]\n",
    "]\n",
    "\n",
    "customers = [Customer(*customer_data) for customer_data in customers_data]\n",
    "\n",
    "print(f'fields: {customer._fields}')\n",
    "\n",
    "customers = [ customer._asdict() for customer in customers ]\n",
    "\n",
    "print(f'type(customers): {type(customers)}')\n",
    "pprint(customers)\n",
    "\n",
    "print('\\n')\n",
    "for customer in customers:\n",
    "    print(f\"customer['name']: {customer['name']}\")\n",
    "    "
   ]
  },
  {
   "cell_type": "markdown",
   "metadata": {
    "pycharm": {
     "name": "#%% md\n"
    }
   },
   "source": [
    "Si miras lo anterior ahora podemos usar la namedtuple como una tupla o como un diccionario, o sea, tenemos dos cosas por el precio de una.\n",
    "\n",
    "Lo vas a ver mejor aqui con uno solo, ya que nos ha metido el metodo \"_asdict()\" en el objeto y podemos tener la namedtuple como diccionario `customer._asdict()`:"
   ]
  },
  {
   "cell_type": "code",
   "execution_count": 9,
   "metadata": {
    "pycharm": {
     "is_executing": false,
     "name": "#%% \n"
    }
   },
   "outputs": [
    {
     "name": "stdout",
     "output_type": "stream",
     "text": [
      "customer: Customer(name='Ana', age=34, experience=5, accidents=2)\n",
      "customer._asdict(): OrderedDict([('name', 'Ana'), ('age', 34), ('experience', 5), ('accidents', 2)])\n",
      "customer_dict['name']: Ana\n"
     ]
    }
   ],
   "source": [
    "Customer = namedtuple('Customer', 'name age experience accidents')\n",
    "customer = Customer('Ana', 34, 5, 2)\n",
    "print(f'customer: {customer}')\n",
    "print(f'customer._asdict(): {customer._asdict()}')\n",
    "customer_dict = customer._asdict()\n",
    "print(f\"customer_dict['name']: {customer_dict['name']}\")"
   ]
  },
  {
   "cell_type": "markdown",
   "metadata": {},
   "source": [
    "O sea, nos serviría por ejemplo para crear una nueva representación, si la necesitamos, por ejemplo crear una lista, donde cada uno de sus items es un dicccionario que la key es el nombre y este diccionario a su vez para cada uno de los clientes tiene un diccionario con los otros tres campos:"
   ]
  },
  {
   "cell_type": "code",
   "execution_count": 10,
   "metadata": {
    "pycharm": {
     "is_executing": false,
     "name": "#%% \n"
    }
   },
   "outputs": [
    {
     "name": "stdout",
     "output_type": "stream",
     "text": [
      "type(customers_per_name): <class 'list'>\n",
      "\n",
      "\n",
      "[{'John Carl': {'accidents': 0, 'age': 32, 'experience': 13}},\n",
      " {'Mary Carl': {'accidents': 159, 'age': 25, 'experience': 27}},\n",
      " {'Mary Melody': {'accidents': 32, 'age': 28, 'experience': 13}},\n",
      " {'Susie Perl': {'accidents': 12, 'age': 33, 'experience': 17}},\n",
      " {'Andy Wharton': {'accidents': 0, 'age': 66, 'experience': 24}},\n",
      " {'Jorge Mar': {'accidents': 24, 'age': 44, 'experience': 18}},\n",
      " {'Mary Jorge': {'accidents': 36, 'age': 37, 'experience': 24}}]\n"
     ]
    }
   ],
   "source": [
    "Customer = namedtuple('Customer', 'name age experience accidents')\n",
    "\n",
    "customers_data = [\n",
    "    ['John Carl', 32, 13, 0],\n",
    "    ['Mary Carl', 25, 27, 159],\n",
    "    ['Mary Melody', 28, 13, 32],\n",
    "    ['Susie Perl', 33, 17, 12],\n",
    "    ['Andy Wharton', 66, 24, 0],\n",
    "    ['Jorge Mar', 44, 18, 24],\n",
    "    ['Mary Jorge', 37, 24, 36]\n",
    "]\n",
    "\n",
    "customers = [Customer(*customer_data) for customer_data in customers_data]\n",
    "            \n",
    "customers_per_name = [{customer.name: {key: value for key, value in customer._asdict().items() if key != 'name' }} for customer in customers]            \n",
    "print(f'type(customers_per_name): {type(customers_per_name)}')\n",
    "print('\\n')\n",
    "pprint(customers_per_name)\n"
   ]
  },
  {
   "cell_type": "markdown",
   "metadata": {},
   "source": [
    "Y ahora una igual pero para tener la lista de los que han tenido algun golpe porque les vamos a mandar una carta que les subimos el seguro, aunque eso ya lo podiamos haber hecho antes con la primera estructura (la namedtuple), pero me lo he pasado bien:\n"
   ]
  },
  {
   "cell_type": "code",
   "execution_count": 11,
   "metadata": {
    "pycharm": {
     "is_executing": false,
     "name": "#%% \n"
    }
   },
   "outputs": [
    {
     "name": "stdout",
     "output_type": "stream",
     "text": [
      "\n",
      "\n",
      "[{'Mary Carl': {'accidents': 159, 'age': 25, 'experience': 27}},\n",
      " {'Mary Melody': {'accidents': 32, 'age': 28, 'experience': 13}},\n",
      " {'Susie Perl': {'accidents': 12, 'age': 33, 'experience': 17}},\n",
      " {'Jorge Mar': {'accidents': 24, 'age': 44, 'experience': 18}},\n",
      " {'Mary Jorge': {'accidents': 36, 'age': 37, 'experience': 24}}]\n",
      "\n",
      "\n"
     ]
    }
   ],
   "source": [
    "Customer = namedtuple('Customer', 'name age experience accidents')\n",
    "\n",
    "customers_data = [\n",
    "    ['John Carl', 32, 13, 0],\n",
    "    ['Mary Carl', 25, 27, 159],\n",
    "    ['Mary Melody', 28, 13, 32],\n",
    "    ['Susie Perl', 33, 17, 12],\n",
    "    ['Andy Wharton', 66, 24, 0],\n",
    "    ['Jorge Mar', 44, 18, 24],\n",
    "    ['Mary Jorge', 37, 24, 36]\n",
    "]\n",
    "\n",
    "customers = [Customer(*customer_data) for customer_data in customers_data]\n",
    "            \n",
    "customers_per_name_with_accidents = [{customer.name: {key: value for key, value in customer._asdict().items() if key != 'name' }} for customer in customers if customer.accidents > 0]            \n",
    "print('\\n')\n",
    "pprint(customers_per_name_with_accidents)\n",
    "print('\\n')"
   ]
  },
  {
   "cell_type": "markdown",
   "metadata": {
    "pycharm": {
     "name": "#%% md\n"
    }
   },
   "source": [
    "Y se acabó que he hecho mucho el jilipoyas.\n",
    "\n",
    "Te quiero, quedate solo con lo primero del namedtuple"
   ]
  }
 ],
 "metadata": {
  "kernelspec": {
   "display_name": "Python 3",
   "language": "python",
   "name": "python3"
  },
  "language_info": {
   "codemirror_mode": {
    "name": "ipython",
    "version": 3
   },
   "file_extension": ".py",
   "mimetype": "text/x-python",
   "name": "python",
   "nbconvert_exporter": "python",
   "pygments_lexer": "ipython3",
   "version": "3.7.7-final"
  },
  "pycharm": {
   "stem_cell": {
    "cell_type": "raw",
    "metadata": {
     "collapsed": false
    },
    "source": []
   }
  }
 },
 "nbformat": 4,
 "nbformat_minor": 1
}